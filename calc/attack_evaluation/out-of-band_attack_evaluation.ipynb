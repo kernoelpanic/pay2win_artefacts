{
 "cells": [
  {
   "cell_type": "code",
   "execution_count": 1,
   "metadata": {},
   "outputs": [],
   "source": [
    "import numpy as np\n",
    "import matplotlib\n",
    "import matplotlib.pyplot as plt\n",
    "\n",
    "from decimal import *\n",
    "import scipy.special\n",
    "import scipy.stats\n",
    "import scipy\n",
    "import numpy\n",
    "import math\n",
    "import itertools"
   ]
  },
  {
   "cell_type": "code",
   "execution_count": 2,
   "metadata": {},
   "outputs": [
    {
     "data": {
      "text/plain": [
       "'3.8.10 (default, Jun 22 2022, 20:18:18) \\n[GCC 9.4.0]'"
      ]
     },
     "execution_count": 2,
     "metadata": {},
     "output_type": "execute_result"
    }
   ],
   "source": [
    "import sys\n",
    "sys.version"
   ]
  },
  {
   "cell_type": "markdown",
   "metadata": {},
   "source": [
    "# Out-of-band P2W attack evaluation"
   ]
  },
  {
   "cell_type": "markdown",
   "metadata": {},
   "source": [
    "## P2W attack success probability within $ N $ total blocks (no attacker hash rate $\\alpha$ )\n",
    "\n",
    "* $\\omega$ This denotes the hash rate of all bribed miners (or the hashrate of the attacker if applicable)\n",
    "* $\\beta = 1 -\n",
    "\\omega$ The hash rate of the nodes that keep on mining on the main chain i.e., Bob if all others switch\n",
    "* $k$ The number of conirmations blocks required to catch up \n",
    "* $N$ The total number of blocks that can be rewarded  \n",
    "\n",
    "A new block is appended to the *main chain* with probability:\n",
    "$$\n",
    "\\dfrac{\\beta}{\\omega+\\beta}  = \\beta\n",
    "$$\n",
    "\n",
    "A new block is appended to the *attack cahin* with probability:\n",
    "$$\n",
    "\\dfrac{\\omega}{\\omega+\\beta} = \\omega\n",
    "$$\n",
    "\n",
    "All successful series of blocks up to the maximum number of blocks $ N - n $ are given by:\n",
    "$$\n",
    "\\sum_{i=0}^{i \\le N - k -1}\n",
    " {\n",
    "\t \\left(\\binom{k+2i}{i} - \\binom{k+2i}{i-1}\\right)\n",
    "\t \\cdot \n",
    "\t { \\omega }^{k+1+i}\n",
    "\t \\cdot \n",
    "\t { \\beta }^{i}\n",
    " }\n",
    " \\,\\,.\n",
    "$$"
   ]
  },
  {
   "cell_type": "code",
   "execution_count": 3,
   "metadata": {},
   "outputs": [],
   "source": [
    "# Attack probability of catching-up k blocks within N total blocks\n",
    "def attack_prob(k,N,omega,beta=None):\n",
    "    if beta is None:\n",
    "        beta = 1 - omega\n",
    "    p = 0\n",
    "    #for i in range(0,N-k):\n",
    "    i = 0\n",
    "    while i <= N-k-1:\n",
    "        p += ( scipy.special.binom(k+2*i, i) - scipy.special.binom(k+2*i, i-1) ) * omega**(k+i+1) * beta**i\n",
    "        #print(i,p)\n",
    "        i += 1\n",
    "    return p"
   ]
  },
  {
   "cell_type": "code",
   "execution_count": 4,
   "metadata": {},
   "outputs": [],
   "source": [
    "assert math.isclose(attack_prob(2,3,0.8,0.2),0.512)\n",
    "assert math.isclose(attack_prob(2,4,0.8,0.2),0.7577600000000001)\n",
    "assert math.isclose(attack_prob(2,5,0.8,0.2),0.8757248000000003)\n",
    "assert math.isclose(attack_prob(2,6,0.8,0.2),0.9344450560000004)\n",
    "assert math.isclose(attack_prob(2,7,0.8,0.2),0.9646440448000003)"
   ]
  },
  {
   "cell_type": "code",
   "execution_count": 5,
   "metadata": {},
   "outputs": [
    {
     "data": {
      "text/plain": [
       "0.5120000000000001"
      ]
     },
     "execution_count": 5,
     "metadata": {},
     "output_type": "execute_result"
    }
   ],
   "source": [
    "attack_prob(2,3,0.8,0.2)"
   ]
  },
  {
   "cell_type": "code",
   "execution_count": 6,
   "metadata": {},
   "outputs": [
    {
     "data": {
      "text/plain": [
       "0.01234567901234568"
      ]
     },
     "execution_count": 6,
     "metadata": {},
     "output_type": "execute_result"
    }
   ],
   "source": [
    "attack_prob(1,200,0.1)"
   ]
  },
  {
   "cell_type": "code",
   "execution_count": 7,
   "metadata": {},
   "outputs": [
    {
     "data": {
      "text/plain": [
       "0"
      ]
     },
     "execution_count": 7,
     "metadata": {},
     "output_type": "execute_result"
    }
   ],
   "source": [
    "attack_prob(k=6,N=6,omega=0.670)"
   ]
  },
  {
   "cell_type": "code",
   "execution_count": 8,
   "metadata": {},
   "outputs": [
    {
     "data": {
      "text/plain": [
       "0.06060711605323003"
      ]
     },
     "execution_count": 8,
     "metadata": {},
     "output_type": "execute_result"
    }
   ],
   "source": [
    "attack_prob(k=6,N=7,omega=0.670)"
   ]
  },
  {
   "cell_type": "code",
   "execution_count": 9,
   "metadata": {},
   "outputs": [],
   "source": [
    "# Get number of required total blocks s.t. attack success probability is met \n",
    "def attack_N(k,omega,success_prob):\n",
    "        N = 0\n",
    "        prob = 0\n",
    "        while prob < success_prob:\n",
    "            #prob = probCalc_optimized.compute_prob(k, N, omega,beta=1-omega)\n",
    "            prob = attack_prob(k, N, omega,beta=1-omega)\n",
    "            N += 1\n",
    "        # the last N value produces the right prob not the current one, therefore -1\n",
    "        return N - 1"
   ]
  },
  {
   "cell_type": "code",
   "execution_count": 10,
   "metadata": {},
   "outputs": [
    {
     "data": {
      "text/plain": [
       "515"
      ]
     },
     "execution_count": 10,
     "metadata": {},
     "output_type": "execute_result"
    }
   ],
   "source": [
    "attack_N(k=6,omega=0.532,success_prob=0.995)"
   ]
  },
  {
   "cell_type": "code",
   "execution_count": 11,
   "metadata": {},
   "outputs": [
    {
     "data": {
      "text/plain": [
       "41"
      ]
     },
     "execution_count": 11,
     "metadata": {},
     "output_type": "execute_result"
    }
   ],
   "source": [
    "attack_N(k=6,omega=0.67,success_prob=0.995)"
   ]
  },
  {
   "cell_type": "code",
   "execution_count": 12,
   "metadata": {},
   "outputs": [
    {
     "data": {
      "text/plain": [
       "265"
      ]
     },
     "execution_count": 12,
     "metadata": {},
     "output_type": "execute_result"
    }
   ],
   "source": [
    "attack_N(k=6,omega=0.67,success_prob=1)"
   ]
  },
  {
   "cell_type": "code",
   "execution_count": 13,
   "metadata": {},
   "outputs": [],
   "source": [
    "# calculate expected number of blocks in which attack is successful i.e., target sucess probability is reached with this amount of N\n",
    "def attack_expected_estimate(k,N,omega,beta=None):\n",
    "    if beta is None:\n",
    "        beta = 1 - omega\n",
    "    P = 0\n",
    "    p = 0\n",
    "    e = 0\n",
    "    i = 0\n",
    "    while i <= N-k-1:\n",
    "        # Current success probability:\n",
    "        p = ( scipy.special.binom(k+2*i, i) - scipy.special.binom(k+2*i, i-1) ) * omega**(k+i+1) * beta**i\n",
    "        # Overall target success probability:\n",
    "        P += p\n",
    "        # Expected value:\n",
    "        # y is the real current value of blocks passed\n",
    "        # this is why we need to add k+1 to y \n",
    "        # to account for the k+1 in the formular and the loop condition\n",
    "        y = i+k+1\n",
    "        if math.isnan(p):\n",
    "            print(\"p isnan P=\",P,\" e=\",e)\n",
    "            return e\n",
    "        e += p * y\n",
    "        #print(P,p,i,y,e)\n",
    "        i += 1\n",
    "        p = 0\n",
    "    return e"
   ]
  },
  {
   "cell_type": "code",
   "execution_count": 14,
   "metadata": {},
   "outputs": [
    {
     "data": {
      "text/plain": [
       "14"
      ]
     },
     "execution_count": 14,
     "metadata": {},
     "output_type": "execute_result"
    }
   ],
   "source": [
    "math.ceil(attack_expected_estimate(k=6,N=41,omega=0.670))"
   ]
  },
  {
   "cell_type": "code",
   "execution_count": 15,
   "metadata": {},
   "outputs": [
    {
     "data": {
      "text/plain": [
       "14"
      ]
     },
     "execution_count": 15,
     "metadata": {},
     "output_type": "execute_result"
    }
   ],
   "source": [
    "math.ceil(attack_expected_estimate(k=6,N=265,omega=0.670))"
   ]
  },
  {
   "cell_type": "code",
   "execution_count": 16,
   "metadata": {},
   "outputs": [
    {
     "data": {
      "text/plain": [
       "14"
      ]
     },
     "execution_count": 16,
     "metadata": {},
     "output_type": "execute_result"
    }
   ],
   "source": [
    "math.ceil(attack_expected_estimate(k=6,N=500,omega=0.670))"
   ]
  },
  {
   "cell_type": "code",
   "execution_count": 17,
   "metadata": {},
   "outputs": [
    {
     "data": {
      "text/plain": [
       "11"
      ]
     },
     "execution_count": 17,
     "metadata": {},
     "output_type": "execute_result"
    }
   ],
   "source": [
    "math.ceil(attack_expected_estimate(k=6,N=500,omega=0.764))"
   ]
  },
  {
   "cell_type": "code",
   "execution_count": 18,
   "metadata": {},
   "outputs": [
    {
     "data": {
      "text/plain": [
       "9"
      ]
     },
     "execution_count": 18,
     "metadata": {},
     "output_type": "execute_result"
    }
   ],
   "source": [
    "math.ceil(attack_expected_estimate(k=6,N=500,omega=0.828))"
   ]
  },
  {
   "cell_type": "code",
   "execution_count": 19,
   "metadata": {},
   "outputs": [
    {
     "data": {
      "text/plain": [
       "9"
      ]
     },
     "execution_count": 19,
     "metadata": {},
     "output_type": "execute_result"
    }
   ],
   "source": [
    "math.ceil(attack_expected_estimate(k=6,N=500,omega=0.887))"
   ]
  },
  {
   "cell_type": "code",
   "execution_count": 20,
   "metadata": {},
   "outputs": [
    {
     "data": {
      "text/plain": [
       "{'mblk': 8, 'ablk': 15, 'N': 23}"
      ]
     },
     "execution_count": 20,
     "metadata": {},
     "output_type": "execute_result"
    }
   ],
   "source": [
    "import numpy as py\n",
    "\n",
    "def simulate_race(p_omega = 0.670, # rational hashrate \n",
    "                  k_v = 6,\n",
    "                  runs = 1):\n",
    "    p_beta = 1-p_omega\n",
    "    i=0\n",
    "    results={\"mblk\":0,\n",
    "             \"ablk\":0,\n",
    "             \"N\":0}\n",
    "    while (i<runs):\n",
    "        achain = 0\n",
    "        mchain = k_v \n",
    "        #results[\"mblk\"] = k_v\n",
    "        while(achain <= mchain):\n",
    "            values = np.random.choice([0,1],1,p=[p_beta,p_omega])\n",
    "\n",
    "            for v in values:\n",
    "                if v == 0:\n",
    "                    mchain += 1\n",
    "                    results[\"mblk\"] += 1\n",
    "                else:\n",
    "                    achain +=1\n",
    "                    results[\"ablk\"] += 1\n",
    "            results[\"N\"] += 1\n",
    "        i += 1\n",
    "    return results\n",
    "    \n",
    "simulate_race()"
   ]
  },
  {
   "cell_type": "code",
   "execution_count": 21,
   "metadata": {},
   "outputs": [
    {
     "name": "stdout",
     "output_type": "stream",
     "text": [
      "CPU times: user 39.9 s, sys: 513 ms, total: 40.4 s\n",
      "Wall time: 39.2 s\n"
     ]
    },
    {
     "data": {
      "text/plain": [
       "110.5698"
      ]
     },
     "execution_count": 21,
     "metadata": {},
     "output_type": "execute_result"
    }
   ],
   "source": [
    "runs=10**4\n",
    "%time simulate_race(p_omega=0.532,runs=runs)[\"N\"]/runs"
   ]
  },
  {
   "cell_type": "code",
   "execution_count": 22,
   "metadata": {},
   "outputs": [
    {
     "name": "stdout",
     "output_type": "stream",
     "text": [
      "CPU times: user 1min 19s, sys: 630 ms, total: 1min 20s\n",
      "Wall time: 1min 18s\n"
     ]
    },
    {
     "data": {
      "text/plain": [
       "20.64246"
      ]
     },
     "execution_count": 22,
     "metadata": {},
     "output_type": "execute_result"
    }
   ],
   "source": [
    "runs=10**5\n",
    "%time simulate_race(p_omega=0.670,runs=runs)[\"N\"]/runs"
   ]
  },
  {
   "cell_type": "code",
   "execution_count": 23,
   "metadata": {},
   "outputs": [
    {
     "name": "stdout",
     "output_type": "stream",
     "text": [
      "CPU times: user 56.5 s, sys: 303 ms, total: 56.8 s\n",
      "Wall time: 56.2 s\n"
     ]
    },
    {
     "data": {
      "text/plain": [
       "13.2722"
      ]
     },
     "execution_count": 23,
     "metadata": {},
     "output_type": "execute_result"
    }
   ],
   "source": [
    "runs=10**5\n",
    "%time simulate_race(p_omega=0.764,runs=runs)[\"N\"]/runs"
   ]
  },
  {
   "cell_type": "code",
   "execution_count": 24,
   "metadata": {},
   "outputs": [
    {
     "name": "stdout",
     "output_type": "stream",
     "text": [
      "CPU times: user 47.2 s, sys: 406 ms, total: 47.6 s\n",
      "Wall time: 46.9 s\n"
     ]
    },
    {
     "data": {
      "text/plain": [
       "10.67198"
      ]
     },
     "execution_count": 24,
     "metadata": {},
     "output_type": "execute_result"
    }
   ],
   "source": [
    "runs=10**5\n",
    "%time simulate_race(p_omega=0.828,runs=runs)[\"N\"]/runs"
   ]
  },
  {
   "cell_type": "code",
   "execution_count": 25,
   "metadata": {},
   "outputs": [
    {
     "name": "stdout",
     "output_type": "stream",
     "text": [
      "CPU times: user 38.6 s, sys: 325 ms, total: 39 s\n",
      "Wall time: 38.2 s\n"
     ]
    },
    {
     "data": {
      "text/plain": [
       "9.04636"
      ]
     },
     "execution_count": 25,
     "metadata": {},
     "output_type": "execute_result"
    }
   ],
   "source": [
    "runs=10**5\n",
    "%time simulate_race(p_omega=0.887,runs=runs)[\"N\"]/runs"
   ]
  },
  {
   "cell_type": "code",
   "execution_count": 26,
   "metadata": {},
   "outputs": [
    {
     "name": "stdout",
     "output_type": "stream",
     "text": [
      "CPU times: user 29 s, sys: 185 ms, total: 29.2 s\n",
      "Wall time: 28.8 s\n"
     ]
    },
    {
     "data": {
      "text/plain": [
       "7.01372"
      ]
     },
     "execution_count": 26,
     "metadata": {},
     "output_type": "execute_result"
    }
   ],
   "source": [
    "runs=10**5\n",
    "%time simulate_race(p_omega=0.999,runs=runs)[\"N\"]/runs"
   ]
  },
  {
   "cell_type": "code",
   "execution_count": 27,
   "metadata": {},
   "outputs": [],
   "source": [
    "def attack_expected(k,N,omega,beta=None,runs=10**3):\n",
    "    return math.ceil(simulate_race(p_omega=omega,runs=runs)[\"N\"]/runs)"
   ]
  },
  {
   "cell_type": "code",
   "execution_count": 28,
   "metadata": {},
   "outputs": [
    {
     "data": {
      "text/plain": [
       "21"
      ]
     },
     "execution_count": 28,
     "metadata": {},
     "output_type": "execute_result"
    }
   ],
   "source": [
    "attack_expected(k=6,N=265,omega=0.670)"
   ]
  },
  {
   "cell_type": "markdown",
   "metadata": {},
   "source": [
    "### Compare with classical catch-up"
   ]
  },
  {
   "cell_type": "markdown",
   "metadata": {},
   "source": [
    "General catch up condition $ a_z $ from:\n",
    "* https://arxiv.org/pdf/1402.2009.pdf\n",
    "* https://bitcoin.org/bitcoin.pdf\n",
    "\n",
    "\n",
    "Classical parameter names:\n",
    "* $p$ = hashrate of the honest network\n",
    "* $q$ = hashrate of the attacker\n",
    "$$\n",
    "p + q = 1\n",
    "$$\n",
    "* $n$ = number of confirmation blocks, including and on top of the block which includes the respective transaction which needs to be confirmed or double-spend respectively\n",
    "\n",
    "The probability to **ever** catch-up if $ z $ blocks behind, where one block is added to $z$ when the honest miners find a block and one block is substracted from $ z $ when the attacker finds a block i.e.,\n",
    "\n",
    "The catch-up probability is a simplification of the *recurrance relation*, where $ q = \\alpha $ and $ p = \\beta $, given as:\n",
    "$$\n",
    "\\begin{align}\n",
    "    a_z &= p \\cdot a_{z+1} + q \\cdot a_{z-1} \\\\\n",
    "        &= min(q/q,1)^{max(z+1,0)} \n",
    "\\end{align}\n",
    "$$"
   ]
  },
  {
   "cell_type": "code",
   "execution_count": 29,
   "metadata": {},
   "outputs": [],
   "source": [
    "def catch_up(q,z):\n",
    "    if q >= 0.5:\n",
    "        return 1.0\n",
    "    return ( q/(1-q) )**(z+1)"
   ]
  },
  {
   "cell_type": "markdown",
   "metadata": {},
   "source": [
    "With $ p \\geq 0.5 $ of hashpower the attacker will always catch up:"
   ]
  },
  {
   "cell_type": "code",
   "execution_count": 30,
   "metadata": {},
   "outputs": [
    {
     "data": {
      "text/plain": [
       "100.0"
      ]
     },
     "execution_count": 30,
     "metadata": {},
     "output_type": "execute_result"
    }
   ],
   "source": [
    "assert catch_up(0.5,100)*100 == 100.0\n",
    "catch_up(0.5,100)*100 "
   ]
  },
  {
   "cell_type": "markdown",
   "metadata": {},
   "source": [
    "With $ p < 0.5 $ of hashpower the probability drops exponentially with $ z $:"
   ]
  },
  {
   "cell_type": "code",
   "execution_count": 31,
   "metadata": {},
   "outputs": [
    {
     "data": {
      "text/plain": [
       "75.57555192825632"
      ]
     },
     "execution_count": 31,
     "metadata": {},
     "output_type": "execute_result"
    }
   ],
   "source": [
    "catch_up(0.49,6)*100 "
   ]
  },
  {
   "cell_type": "code",
   "execution_count": 32,
   "metadata": {},
   "outputs": [
    {
     "data": {
      "text/plain": [
       "58.27062859382228"
      ]
     },
     "execution_count": 32,
     "metadata": {},
     "output_type": "execute_result"
    }
   ],
   "source": [
    "catch_up(0.49,12.5)*100 "
   ]
  },
  {
   "cell_type": "code",
   "execution_count": 33,
   "metadata": {},
   "outputs": [
    {
     "data": {
      "text/plain": [
       "35.34056612095472"
      ]
     },
     "execution_count": 33,
     "metadata": {},
     "output_type": "execute_result"
    }
   ],
   "source": [
    "catch_up(0.49,25)*100 "
   ]
  },
  {
   "cell_type": "code",
   "execution_count": 34,
   "metadata": {},
   "outputs": [
    {
     "data": {
      "text/plain": [
       "12.999333939026162"
      ]
     },
     "execution_count": 34,
     "metadata": {},
     "output_type": "execute_result"
    }
   ],
   "source": [
    "catch_up(0.49,50)*100 "
   ]
  },
  {
   "cell_type": "code",
   "execution_count": 35,
   "metadata": {},
   "outputs": [
    {
     "data": {
      "text/plain": [
       "1.7587993521988143"
      ]
     },
     "execution_count": 35,
     "metadata": {},
     "output_type": "execute_result"
    }
   ],
   "source": [
    "catch_up(0.49,100)*100 "
   ]
  },
  {
   "cell_type": "markdown",
   "metadata": {},
   "source": [
    "#### Comparision"
   ]
  },
  {
   "cell_type": "code",
   "execution_count": 36,
   "metadata": {},
   "outputs": [
    {
     "data": {
      "text/plain": [
       "24.259300512363563"
      ]
     },
     "execution_count": 36,
     "metadata": {},
     "output_type": "execute_result"
    }
   ],
   "source": [
    "# Probability to catch up 1 blocks i.e., 1 block behind in unlimited time/blocks\n",
    "catch_up(q=0.33,z=1)*100"
   ]
  },
  {
   "cell_type": "code",
   "execution_count": 37,
   "metadata": {},
   "outputs": [
    {
     "data": {
      "text/plain": [
       "24.259299518743187"
      ]
     },
     "execution_count": 37,
     "metadata": {},
     "output_type": "execute_result"
    }
   ],
   "source": [
    "# Probability to catch up 1 blocks i.e., 1 block behind in (large) limited time/blocks\n",
    "attack_prob(1,100,0.33)*100"
   ]
  },
  {
   "cell_type": "code",
   "execution_count": 38,
   "metadata": {},
   "outputs": [
    {
     "data": {
      "text/plain": [
       "100.0"
      ]
     },
     "execution_count": 38,
     "metadata": {},
     "output_type": "execute_result"
    }
   ],
   "source": [
    "# Probability to catch up 1 blocks i.e., 1 block behind in unlimited time/blocks\n",
    "catch_up(q=0.66,z=1)*100"
   ]
  },
  {
   "cell_type": "code",
   "execution_count": 39,
   "metadata": {},
   "outputs": [
    {
     "data": {
      "text/plain": [
       "96.29614818620146"
      ]
     },
     "execution_count": 39,
     "metadata": {},
     "output_type": "execute_result"
    }
   ],
   "source": [
    "# Probability to catch up 1 blocks i.e., 1 block behind in limited time/blocks i.e., 12\n",
    "attack_prob(1,12,0.66)*100"
   ]
  },
  {
   "cell_type": "markdown",
   "metadata": {},
   "source": [
    "### Comparison of catching-up within $ N $ total blocks vs catching-up after $ \\infty $ blocks"
   ]
  },
  {
   "cell_type": "code",
   "execution_count": 40,
   "metadata": {},
   "outputs": [
    {
     "data": {
      "image/png": "[encoded data removed]",
      "text/plain": [
       "<Figure size 1152x648 with 1 Axes>"
      ]
     },
     "metadata": {
      "needs_background": "light"
     },
     "output_type": "display_data"
    }
   ],
   "source": [
    "def fig_prob_to_catch_up():\n",
    "    fig, ax = plt.subplots(figsize=(16, 9))\n",
    "    \n",
    "    # https://matplotlib.org/api/markers_api.html\n",
    "    marker = itertools.cycle(('o','v', '+', 's','.', ',', '*','1','D','x','^'))\n",
    "    \n",
    "    omega = [ 0.1, 0.2, 0.33, 0.4, 0.5, 0.66 ]\n",
    "    N = np.arange(0,33)\n",
    "    \n",
    "    color = itertools.cycle(( 'b','orange','c','r', 'g','darkviolet',)) \n",
    "    \"\"\"\n",
    "    NUM_COLORS = len(omega)\n",
    "    cm = plt.get_cmap('gist_rainbow') \n",
    "    colors = [cm(1.*i/NUM_COLORS) for i in range(NUM_COLORS)]\n",
    "    color = iter(colors)\n",
    "    #ax.set_color_cycle([cm(1.*i/NUM_COLORS) for i in range(NUM_COLORS)])\n",
    "    \"\"\"    \n",
    "    for o in reversed(omega):\n",
    "        current_color=next(color)\n",
    "        plt.plot(N, [ attack_prob(1,n,o)*100 for n in N ] , color=current_color, marker=next(marker), label=\" $p_{\\mathcal{R}}$=\" + str(o))\n",
    "        P = catch_up(o,1)*100\n",
    "        plt.plot([0, len(N)], [P, P], color=current_color, linestyle='--', linewidth=2)\n",
    "    \n",
    "    plt.plot([2, 2], [-2, 100], color='k', linestyle='-', linewidth=4)\n",
    "    plt.plot([0, 100], [100, 100], color='k', linestyle='-', linewidth=4)\n",
    "    #plt.plot([0, 50], [50, 50], color='k', linestyle='--', linewidth=3)\n",
    "        \n",
    "    # tidy up the figure\n",
    "    ax.grid(True)\n",
    "    #ax.legend(loc='center right', bbox_to_anchor=(0.8, 0.57))\n",
    "    ax.legend(loc='center right', bbox_to_anchor=(0.90, 0.30), framealpha=1, prop={'size': 24} )\n",
    "    #ax.set_title(\"Probability of catching-up 1 block after $ N $ total blocks\")\n",
    "    ax.set_ylabel(\"Probability of catching-up in $ \\% $ \", fontsize=28)\n",
    "    ax.set_xlabel(\"Number of blocks till catching up ($ N $)\", fontsize=28)\n",
    "    ax.set_yscale('log'), \n",
    "    #ax.set_ylim([-1,81])\n",
    "    ax.set_yticks([1,5,10,25,50,75,100])\n",
    "    ax.get_yaxis().set_major_formatter(matplotlib.ticker.ScalarFormatter())\n",
    "    ax.set_xlim([0,len(N)-1])\n",
    "    \n",
    "    # draw line at 0 \n",
    "    #plt.plot([x1, x2], [y1, y2], color='k', linestyle='-', linewidth=2)\n",
    "    #plt.plot([0, 100], [0, 0], color='k', linestyle='--', linewidth=2)\n",
    "    \n",
    "    #plt.yticks(np.arange(-1, 15, step=1))\n",
    "    plt.xticks(np.arange(0, len(N), step=2))\n",
    "    \n",
    "    #plt.yscale('log')\n",
    "    plt.rcParams.update({'font.size': 23})\n",
    "    plt.rc('xtick', labelsize=24) \n",
    "    plt.rc('ytick', labelsize=24) \n",
    "    plt.savefig(\"plots/number_of_blocks_for_catching-up_z=1.png\", bbox_inches='tight',dpi=100) \n",
    "    plt.show()\n",
    "\n",
    "fig_prob_to_catch_up()"
   ]
  },
  {
   "cell_type": "markdown",
   "metadata": {},
   "source": [
    "### P2W attack success probability plot"
   ]
  },
  {
   "cell_type": "code",
   "execution_count": 48,
   "metadata": {},
   "outputs": [
    {
     "data": {
      "image/png": "[encoded data removed]",
      "text/plain": [
       "<Figure size 1152x648 with 1 Axes>"
      ]
     },
     "metadata": {
      "needs_background": "light"
     },
     "output_type": "display_data"
    }
   ],
   "source": [
    "def fig_probability_success_after_at_most_N_steps():\n",
    "    fig, ax = plt.subplots(figsize=(16, 9))\n",
    "    \n",
    "    # https://matplotlib.org/api/markers_api.html\n",
    "    marker = itertools.cycle((',','v', '+', 's','.', 'o', '*','1','D','x','^'))\n",
    "    \n",
    "    x = np.arange(0, 36)\n",
    "    \n",
    "    for omega in [0.33, 0.40, 0.49, 0.51, 0.6, 0.66, 0.75, 0.90, 1 ]:\n",
    "        plt.plot(x, [ attack_prob(6, N, omega,beta=1-omega) for N in x ] , marker=next(marker), label=\" $p_{\\mathcal{R}}$=\" + str(omega))\n",
    "\n",
    "    # tidy up the figure\n",
    "    ax.grid(True)\n",
    "    #ax.legend(loc='center right', bbox_to_anchor=(0.8, 0.57))\n",
    "    ax.legend(loc='center right', bbox_to_anchor=(0.185, 0.57), framealpha=1, prop={'size': 20})\n",
    "    #ax.set_title(\"Attack success probability\")\n",
    "    ax.set_xlabel(\"Number of steps/blocks (N) that the attack is funded\", fontsize=28)\n",
    "    ax.set_ylabel(\"Attack success probability\",fontsize=28)\n",
    "    ax.set_ylim([1e-10, 1])\n",
    "    ax.set_xlim([0,35])\n",
    "    \n",
    "    #plt.yscale('log')\n",
    "    plt.rcParams.update({'font.size': 17})\n",
    "    plt.rc('xtick', labelsize=17) \n",
    "    plt.rc('ytick', labelsize=17) \n",
    "    plt.savefig(\"plots/attack_probability_no-hashrate_n=6_N=35.png\", bbox_inches='tight', dpi=100) # sage image\n",
    "    plt.show()\n",
    "\n",
    "fig_probability_success_after_at_most_N_steps()"
   ]
  },
  {
   "cell_type": "code",
   "execution_count": 44,
   "metadata": {
    "scrolled": false
   },
   "outputs": [
    {
     "data": {
      "image/png": "[encoded data removed]",
      "text/plain": [
       "<Figure size 1152x648 with 1 Axes>"
      ]
     },
     "metadata": {
      "needs_background": "light"
     },
     "output_type": "display_data"
    }
   ],
   "source": [
    "# This figure compares against the probabilities mentioned in the whale attack paper\n",
    "# https://www.cs.umd.edu/~jkatz/papers/whale-txs.pdf\n",
    "\n",
    "def fig_probability_success_after_at_most_N_steps():\n",
    "    fig, ax = plt.subplots(figsize=(16, 9))\n",
    "    \n",
    "    # https://matplotlib.org/api/markers_api.html\n",
    "    marker = itertools.cycle((',','v', '+', 's','.', 'o', '*','1','D','x','^'))\n",
    "    \n",
    "    x = np.arange(0, 64)\n",
    "    \n",
    "    for omega in [0.532, 0.670, 0.764, 0.828, 0.887, 0.931, 0.968, 0.999 ]:\n",
    "        plt.plot(x, [ attack_prob(6, N, omega,beta=1-omega) for N in x ] , marker=next(marker), label=\" $p_{\\mathcal{R}}$=\" + \"{:.3f}\".format(omega))\n",
    "\n",
    "    # tidy up the figure\n",
    "    ax.grid(True)\n",
    "    #ax.legend(loc='center right', bbox_to_anchor=(0.8, 0.57))\n",
    "    ax.legend(loc='center right', bbox_to_anchor=(0.80, 0.30))\n",
    "    #ax.set_title(\"Attack success probability\")\n",
    "    ax.set_xlabel(\"Max steps (N) that the attack can be funded\")\n",
    "    ax.set_ylabel(\"Attack success probability\")\n",
    "    ax.set_ylim([1e-10, 1])\n",
    "    ax.set_xlim([0,63])\n",
    "    \n",
    "    #plt.yscale('log')\n",
    "    plt.rcParams.update({'font.size': 17})\n",
    "    plt.rc('xtick', labelsize=17) \n",
    "    plt.rc('ytick', labelsize=17) \n",
    "    plt.savefig(\"plots/attack_probability_no-hashrate_n=6_N=60.png\", dpi=100) # sage image\n",
    "    plt.show()\n",
    "\n",
    "fig_probability_success_after_at_most_N_steps()"
   ]
  },
  {
   "cell_type": "markdown",
   "metadata": {},
   "source": [
    "## Costs of the attack"
   ]
  },
  {
   "cell_type": "markdown",
   "metadata": {},
   "source": [
    "Transaction exclusion and ordering attack costs for $ \\omega = 1 $:"
   ]
  },
  {
   "cell_type": "code",
   "execution_count": 2,
   "metadata": {},
   "outputs": [
    {
     "name": "stdout",
     "output_type": "stream",
     "text": [
      "N              =  6\n",
      "c_operational  =  0.5\n",
      "r_b            =  8.25\n",
      "epsilon        =  1\n",
      "f_B            =  56.0\n",
      "c_fail         =  50.0\n",
      "c_success      =  6.5\n"
     ]
    }
   ],
   "source": [
    "N = 6               # duration of the attack\n",
    "#reward = 12.5       # block reward\n",
    "reward = 6.25       # block reward\n",
    "fee = 2             # average fees rounded to 1 (see other notebook) \n",
    "r_b = reward + fee\n",
    "epsilon = 1         # bribe\n",
    "c_operational = 0.5 # operational costs\n",
    "\n",
    "f_B = N * ( r_b + epsilon )  + c_operational  # required funds of the attacker which are payed in Ethereum \n",
    "\n",
    "c_fail = N * r_b + c_operational\n",
    "\n",
    "c_success = N * epsilon + c_operational\n",
    "\n",
    "print(\"N              = \",N)\n",
    "print(\"c_operational  = \",c_operational)\n",
    "print(\"r_b            = \",r_b)\n",
    "print(\"epsilon        = \",epsilon)\n",
    "print(\"f_B            = \",f_B)\n",
    "print(\"c_fail         = \",c_fail)\n",
    "print(\"c_success      = \",c_success)"
   ]
  },
  {
   "cell_type": "markdown",
   "metadata": {},
   "source": [
    "Transaction revision,exclusion and ordering attack costs for $ \\omega = 1 $:"
   ]
  },
  {
   "cell_type": "markdown",
   "metadata": {},
   "source": [
    "https://en.bitcoin.it/wiki/Controlled_supply"
   ]
  },
  {
   "cell_type": "code",
   "execution_count": 33,
   "metadata": {},
   "outputs": [
    {
     "name": "stdout",
     "output_type": "stream",
     "text": [
      "k              =  6\n",
      "N              =  7\n",
      "c_operational  =  0.5\n",
      "r_b            =  8.25\n",
      "epsilon        =  1\n",
      "f_B            =  114.75  BTC\n",
      "               =  1,500,643.125  USD\n",
      "c_fail         =  58.25  BTC\n",
      "               =  761,764.375  USD\n",
      "c_success      =  57.0  BTC\n",
      "               =  745,417.5  USD\n"
     ]
    }
   ],
   "source": [
    "k = 6               # security parameter of victim\n",
    "N = k+1             # minimum N \n",
    "#reward = 12.5       # block reward\n",
    "#fee = 1             # average fees rounded to 1 (see other notebook) \n",
    "reward = 6.25       # block reward\n",
    "#reward = 12.5\n",
    "fee = 2             \n",
    "r_b = reward + fee\n",
    "epsilon = 1         # bribe per block\n",
    "# epsilon = 0.0002  # min. bribe in BTC (smalest transferable value w.r. to tx fees)\n",
    "c_operational = 0.5 # operational costs\n",
    "exchangerate = 13_077.50 \n",
    "\n",
    "f_B = k * r_b + N * ( r_b + epsilon )  + c_operational # required funds of the attacker which are payed in Ethereum\n",
    "\n",
    "c_fail = N * r_b + c_operational\n",
    "\n",
    "c_success = k * r_b + N * epsilon + c_operational\n",
    "\n",
    "print(\"k              = \",k)\n",
    "print(\"N              = \",N)\n",
    "print(\"c_operational  = \",c_operational)\n",
    "print(\"r_b            = \",r_b)\n",
    "print(\"epsilon        = \",epsilon)\n",
    "print(\"f_B            = \",f_B, \" BTC\")\n",
    "print(\"               = \",\"{:,}\".format(f_B*exchangerate), \" USD\")\n",
    "print(\"c_fail         = \",c_fail, \" BTC\")\n",
    "print(\"               = \",\"{:,}\".format(c_fail*exchangerate), \" USD\")\n",
    "print(\"c_success      = \",c_success, \" BTC\")\n",
    "print(\"               = \",\"{:,}\".format(c_success*exchangerate), \" USD\")"
   ]
  },
  {
   "cell_type": "markdown",
   "metadata": {},
   "source": [
    "We compare against https://www.cs.umd.edu/~jkatz/papers/whale-txs.pdf"
   ]
  },
  {
   "cell_type": "code",
   "execution_count": 224,
   "metadata": {},
   "outputs": [
    {
     "name": "stdout",
     "output_type": "stream",
     "text": [
      "293000000000000014680064\n",
      "2.93e+23\n"
     ]
    }
   ],
   "source": [
    "# costs of an 0.532 percent whale attack transactions\n",
    "# taken from https://www.cs.umd.edu/~jkatz/papers/whale-txs.pdf\n",
    "print(\"{:.0f}\".format(2.93e+23))\n",
    "print(\"{:.2e}\".format(2.93e+23))"
   ]
  },
  {
   "cell_type": "markdown",
   "metadata": {},
   "source": [
    "### Big Table of P2W attack costs vs whale attack costs"
   ]
  },
  {
   "cell_type": "code",
   "execution_count": 337,
   "metadata": {
    "scrolled": false
   },
   "outputs": [
    {
     "name": "stdout",
     "output_type": "stream",
     "text": [
      "\n",
      "\\begin{table}[]\n",
      "\\centering\n",
      "\\label{tab:costs}\n",
      "\\begin{tabular}{c|c|c|c|c|c|c|c|c|c}\n",
      "\n",
      "$\\omega$  \t& whale costs \t& \\makecell{p2w costs\\\\ fail} \t& \\% whale \t& \\makecell{p2w costs\\\\ success} \t& \\% whale \t& \\makecell{p2w costs\\\\ expected}  & \\% whale & \\makecell{N\\\\ (w.c.)}\t& \\makecell{N\\\\ (exp.)} \\\\\n",
      "\\hline\n",
      "0.532 \t\t& 293000000000000014680064.00 \t& 4249 \t\t& 565 \t\t& 0.00 \t\t& 515 \t\t& 161 \t\t& 0.00 \t& 111 \\\\\n",
      "0.670 \t\t& 999.79 \t& 339 \t\t& 91 \t\t& 9.10 \t\t& 41 \t\t& 71 \t\t& 7.10 \t& 21 \\\\\n",
      "0.764 \t\t& 768.09 \t& 182 \t\t& 72 \t\t& 9.37 \t\t& 22 \t\t& 63 \t\t& 8.20 \t& 13 \\\\\n",
      "0.828 \t\t& 1265.14 \t& 132 \t\t& 66 \t\t& 5.22 \t\t& 16 \t\t& 61 \t\t& 4.82 \t& 11 \\\\\n",
      "0.887 \t\t& 1205.00 \t& 108 \t\t& 63 \t\t& 5.23 \t\t& 13 \t\t& 60 \t\t& 4.98 \t& 10 \\\\\n",
      "0.931 \t\t& 1806.67 \t& 91 \t\t& 61 \t\t& 3.38 \t\t& 11 \t\t& 59 \t\t& 3.27 \t&  9 \\\\\n",
      "0.968 \t\t& 2178.58 \t& 75 \t\t& 59 \t\t& 2.71 \t\t&  9 \t\t& 58 \t\t& 2.66 \t&  8 \\\\\n",
      "0.999 \t\t& 2598.64 \t& 66 \t\t& 58 \t\t& 2.23 \t\t&  8 \t\t& 58 \t\t& 2.23 \t&  8 \\\\\n",
      "\\end{tabular}\n",
      "\\caption{Comparison of attack costs whale attack~\\cite{liao2017incentivizing} for $ k_V = 6 $, all costs given in BTC. For comparision different Bitcoin block reward epochs (12.5 and 6.25 BTC) are provided for our P2W attack, all with $ c_{operational} = 0.5 $ BTC, and average fee per block of 2 BTC and $ \\epsilon = 1 $ BTC.}\n",
      "\\end{table}\n"
     ]
    }
   ],
   "source": [
    "bribe_per_block=1     # additional bribe epsilon \n",
    "block_reward=6.25     # current block reward\n",
    "#block_reward=12.5     # current block reward\n",
    "#block_reward=25     # current block reward\n",
    "block_fees_average=2  # current average fees per block\n",
    "operational_costs=0.5\n",
    "\n",
    "block_total= block_reward + block_fees_average\n",
    "block_total_plus_bribe = block_total + bribe_per_block\n",
    "\n",
    "success_prob = 0.9950\n",
    "# success_prob = 0.99510916 \n",
    "\n",
    "print(\"\"\"\n",
    "\\\\begin{table}[]\n",
    "\\\\centering\n",
    "\\\\label{tab:costs}\n",
    "\\\\begin{tabular}{c|c|c|c|c|c|c|c|c|c}\n",
    "\"\"\")\n",
    "\n",
    "print(\"$\\omega$  \\t& whale costs \\t& \\\\makecell{p2w costs\\\\\\\\ fail} \\t& \\% whale \\t& \\\\makecell{p2w costs\\\\\\\\ success} \\t& \\% whale \\t& \\\\makecell{p2w costs\\\\\\\\ expected}  & \\\\% whale & \\\\makecell{N\\\\\\\\ (w.c.)}\t& \\makecell{N\\\\\\\\ (avg.)} \\\\\\\\\")\n",
    "print(\"\\\\hline\")\n",
    "\n",
    "# data from https://www.cs.umd.edu/~jkatz/papers/whale-txs.pdf\n",
    "# (omega,k,BTC)\n",
    "whale_omega_k_costs = [  (0.532,6,2.93e+23),\n",
    "                         (0.670,6,999.79), \n",
    "                         (0.764,6,768.09), \n",
    "                         (0.828,6,1265.14), \n",
    "                         (0.887,6,1205.00),\n",
    "                         (0.931,6,1806.67),\n",
    "                         (0.968,6,2178.58), \n",
    "                         (0.999,6,2598.64) ]\n",
    "# test values\n",
    "\"\"\"\n",
    "whale_omega_k_costs = [  (0.532,0,1),\n",
    "                         (0.670,0,1), \n",
    "                         (0.764,0,1), \n",
    "                         (0.828,0,1), \n",
    "                         (0.887,0,1),\n",
    "                         (0.931,0,1),\n",
    "                         (0.968,0,1), \n",
    "                         (0.999,0,1),\n",
    "                         (1.0,0,1)]\n",
    "\"\"\"\n",
    "\n",
    "for whale in whale_omega_k_costs:\n",
    "    N = 0\n",
    "    prob = 0\n",
    "    omega=whale[0]\n",
    "    k=whale[1]\n",
    "    whale_costs=whale[2]\n",
    "      \n",
    "    N = attack_N(k,omega,success_prob)\n",
    "     \n",
    "    # costs of failed attack\n",
    "    c_p2w_fail = N * block_total + operational_costs \n",
    "    \n",
    "    # costs of successful p2w attack\n",
    "    c_p2w_succ = N*bribe_per_block + k*block_total + operational_costs\n",
    "    \n",
    "    # calculated number of expected blocks \n",
    "    expected = math.ceil(attack_expected(k,N,omega,beta=1-omega))\n",
    "    c_p2w_exp = expected*bribe_per_block + k*block_total + operational_costs\n",
    "    \"\"\"\n",
    "    print(\"omega = {:.3f}  prob = {:.3f} N = {:3.0f} c_p2w_succ = {:.8f} c_p2w_fail = {:.8f} bribe_per_block = {:2.0f}\".format(omega,\n",
    "                                                                                         prob,\n",
    "                                                                                         N,\n",
    "                                                                                         c_p2w_succ,\n",
    "                                                                                         c_p2w_fail,\n",
    "                                                                                         bribe_per_block))\n",
    "    \"\"\"\n",
    "    print(\"{:.3f} \\t\\t& {:.2f} \\t& {:.0f} \\t\\t& {:.0f} \\t\\t& {:.2f} \\t\\t& {:2.0f} \\t\\t& {:.0f} \\t\\t& {:.2f} \\t& {:2.0f} \\\\\\\\\".format(omega, \n",
    "                                                                whale_costs,\n",
    "                                                                c_p2w_fail,                                             \n",
    "                                                                c_p2w_succ,\n",
    "                                                                (c_p2w_succ/whale_costs)*100,\n",
    "                                                                N,                                                                                  \n",
    "                                                                c_p2w_exp,\n",
    "                                                                (c_p2w_exp/whale_costs)*100,\n",
    "                                                                expected ) ) \n",
    "    \n",
    "    N = 0\n",
    "    prob = 0\n",
    "    \n",
    "print(\"\\end{tabular}\")\n",
    "print(\"\\\\caption{{Comparison of attack costs whale attack~\\cite{{liao2017incentivizing}} for $ k_V = {:d} $, all costs given in BTC. For comparision different Bitcoin block reward epochs (12.5 and 6.25 BTC) are provided for our P2W attack, all with $ c_{{operational}} = {:.1f} $ BTC, and average fee per block of {:.0f} BTC and $ \\epsilon = {:.0f} $ BTC.}}\".format(k,operational_costs,block_fees_average,bribe_per_block))\n",
    "print(\"\\end{table}\")"
   ]
  },
  {
   "cell_type": "markdown",
   "metadata": {},
   "source": [
    "### Small Table of P2W attack costs vs whale attack costs"
   ]
  },
  {
   "cell_type": "code",
   "execution_count": 338,
   "metadata": {
    "scrolled": false
   },
   "outputs": [
    {
     "name": "stdout",
     "output_type": "stream",
     "text": [
      "\n",
      "\\begin{table*}[]\n",
      "\\centering\n",
      "\\scriptsize\n",
      "\\label{tab:costs}\n",
      "\\begin{tabular}{c|c||c|c|c||c}\n",
      "\n",
      "\n",
      "\\makecell{Rational hashrate \\\\ $\\omega$}  & \n",
      "\\makecell{Average whale attack costs \\\\ epoch reward $ 12.5 $ \\\\ $ c_{whale} $ in BTC} & \n",
      "\\makecell{P2W \\\\ epoch reward $ 12.5 $ \\\\ $ c_{expected} $ in BTC} &\n",
      "\\makecell{P2W cost \\\\ compared to whale } &\n",
      "\\makecell{P2W \\\\ $ N $ \\\\ expected} &\n",
      "\\makecell{P2W \\\\ epoch reward $ 6.25 $ \\\\ $ c_{expected} $ in BTC} \\\\\n",
      "\n",
      "\\hline\n",
      "0.532 \t\t& 293000000000000014680064.00 \t& 196.50 \t\t& 0.00\\% \t\t& 109 \t\t& 159.00 \\\\\n",
      "0.670 \t\t& 999.79 \t& 108.50 \t\t& 10.85\\% \t\t& 21 \t\t& 71.00 \\\\\n",
      "0.764 \t\t& 768.09 \t& 101.50 \t\t& 13.21\\% \t\t& 14 \t\t& 64.00 \\\\\n",
      "0.828 \t\t& 1265.14 \t& 98.50 \t\t& 7.79\\% \t\t& 11 \t\t& 61.00 \\\\\n",
      "0.887 \t\t& 1205.00 \t& 96.50 \t\t& 8.01\\% \t\t& 9 \t\t& 59.00 \\\\\n",
      "0.931 \t\t& 1806.67 \t& 96.50 \t\t& 5.34\\% \t\t& 9 \t\t& 59.00 \\\\\n",
      "0.968 \t\t& 2178.58 \t& 95.50 \t\t& 4.38\\% \t\t& 8 \t\t& 58.00 \\\\\n",
      "0.999 \t\t& 2598.64 \t& 95.50 \t\t& 3.67\\% \t\t& 8 \t\t& 58.00 \\\\\n",
      "\\end{tabular}\n",
      "\\caption{Comparison of attack costs for $ k_V = 6 $, all costs given in BTC.  The costs for the whale attack are the average from $ 10^6 $ simulation results provided in~\\cite{liao2017incentivizing}. For comparision different Bitcoin block reward epochs (12.5 and 6.25 BTC) are provided for our P2W attack, all with $ c_{operational} = 0.5 $ BTC, and average fee per block of 2 BTC and a bribe $ \\epsilon = 1 $ BTC.}\n",
      "\\end{table*}\n"
     ]
    }
   ],
   "source": [
    "bribe_per_block=1     # additional bribe epsilon     \n",
    "block_fees_average=2  # current average fees per block  \n",
    "operational_costs=0.5 # operational costs of attack\n",
    "success_prob = 0.9950 # success_prob = 0.99510916 \n",
    "\n",
    "# current block reward epoch\n",
    "block_total_6= 6.25 + block_fees_average\n",
    "block_total_6_plus_bribe = block_total_6 + bribe_per_block\n",
    "\n",
    "# previous block reward epoch\n",
    "block_total_12= 12.5 + block_fees_average\n",
    "block_total_12_plus_bribe = block_total_12 + bribe_per_block\n",
    "\n",
    "print(\"\"\"\n",
    "\\\\begin{table*}[]\n",
    "\\\\centering\n",
    "\\\\scriptsize\n",
    "\\\\label{tab:costs}\n",
    "\\\\begin{tabular}{c|c||c|c|c||c}\n",
    "\"\"\")\n",
    "print(\"\"\"\n",
    "\\makecell{Rational \\\\\\\\ hashrate \\\\\\\\ $\\\\omega$}  & \n",
    "\\makecell{Average whale attack costs \\\\\\\\ epoch reward $ 12.5 $ \\\\\\\\ $ cost_{whale} $ in BTC} & \n",
    "\\makecell{P2W \\\\\\\\ epoch reward $ 12.5 $ \\\\\\\\ $ cost_{exp.} $ in BTC} &\n",
    "\\makecell{P2W cost \\\\\\\\ compared to whale } &\n",
    "\\makecell{P2W \\\\\\\\ $ N $ \\\\\\\\ average} &\n",
    "\\makecell{P2W \\\\\\\\ epoch reward $ 6.25 $ \\\\\\\\ $ cost_{exp.} $ in BTC} \\\\\\\\\n",
    "\"\"\")\n",
    "print(\"\\\\hline\")\n",
    "\n",
    "# data from https://www.cs.umd.edu/~jkatz/papers/whale-txs.pdf\n",
    "# (omega,k,BTC)\n",
    "whale_omega_k_costs = [  (0.532,6,2.93e+23),\n",
    "                         (0.670,6,999.79), \n",
    "                         (0.764,6,768.09), \n",
    "                         (0.828,6,1265.14), \n",
    "                         (0.887,6,1205.00),\n",
    "                         (0.931,6,1806.67),\n",
    "                         (0.968,6,2178.58), \n",
    "                         (0.999,6,2598.64) ]\n",
    "\n",
    "for whale in whale_omega_k_costs:\n",
    "    N = 0\n",
    "    prob = 0\n",
    "    omega=whale[0]\n",
    "    k=whale[1]\n",
    "    whale_costs=whale[2]\n",
    "      \n",
    "    # calculate number of required block to reach target success_probability (close to one)\n",
    "    N = attack_N(k,omega,success_prob)\n",
    "       \n",
    "    # calculated number of expected blocks \n",
    "    expected = math.ceil(attack_expected(k,N,omega,beta=1-omega))\n",
    "    \n",
    "    # costs for block reward epoch 12.5\n",
    "    c_p2w_exp_12 = expected*bribe_per_block + k*block_total_12 + operational_costs\n",
    "    \n",
    "    # costs for block reward epoch 6.25\n",
    "    c_p2w_exp_6 = expected*bribe_per_block + k*block_total_6 + operational_costs\n",
    "\n",
    "    print(\"{:.3f} \\t\\t& {:.2f} \\t& {:.2f} \\t\\t& {:.2f}\\% \\t\\t& {:d} \\t\\t& {:.2f} \\\\\\\\\".format(\n",
    "                                                                omega, \n",
    "                                                                whale_costs,\n",
    "                                                                c_p2w_exp_12,  \n",
    "                                                                (c_p2w_exp_12/whale_costs)*100,\n",
    "                                                                expected,\n",
    "                                                                c_p2w_exp_6) ) \n",
    "    \n",
    "    N = 0\n",
    "    prob = 0\n",
    "    \n",
    "print(\"\\end{tabular}\")\n",
    "print(\"\\\\caption{{\\\\small Comparison of attack costs for $ k_V = {:d} $, all costs given in BTC.  The costs for the whale attack are the average from $ 10^6 $ simulation results provided in~\\cite{{liao2017incentivizing}}. For comparision different Bitcoin block reward epochs (12.5 and 6.25 BTC) are provided for our P2W attack, all with $ c_{{operational}} = {:.1f} $ BTC, and average fee per block of {:.0f} BTC and a bribe $ \\epsilon = {:.0f} $ BTC.}}\".format(k,operational_costs,block_fees_average,bribe_per_block))\n",
    "print(\"\\end{table*}\")"
   ]
  },
  {
   "cell_type": "markdown",
   "metadata": {
    "collapsed": true
   },
   "source": [
    "## Probability of Out-of-Band attack desynchronization"
   ]
  },
  {
   "cell_type": "markdown",
   "metadata": {},
   "source": [
    "What is the probability that the two chains (funding and attack chain) desynchronize during an attack i.e.,\n",
    "that two (or more) Bitcoin blocks are mined in close succession without an Ethereum block in between. \n",
    "\n",
    "The time between Bitcoin as well as the time between Ethereum blocks is exponentially distributed.\n",
    "Assuming constant difficulty and overall hashrate, Ethereum has a mean block interval i.e., an expected value $E(x)$ of $ 15 $ seconds, whereas Bitcoin has a mean block interval of $ 10\\cdot 60 $ seconds. \n",
    "\n",
    "$$\n",
    "\\begin{align}\n",
    "E_{ETH}(x) &= 15 \\\\\n",
    "E_{BTC}(x) &= 600\n",
    "\\end{align}\n",
    "$$\n",
    "\n",
    "$$\n",
    "\\begin{align}\n",
    "P(X < x) &= \n",
    "        \\begin{cases}\n",
    "            1 - \\exp(-\\lambda x)       & x  \\geq 0, \\\\\n",
    "            0                          & x     < 0\n",
    "        \\end{cases} \\\\\n",
    "P(X \\geq x) &= exp(-\\lambda x) \n",
    "\\end{align}\n",
    "$$"
   ]
  },
  {
   "cell_type": "markdown",
   "metadata": {},
   "source": [
    "#### What is th probability that the time between two Bitcoin blocks is smaller than the mean Etheruem block interval?\n",
    "\n",
    "What is the probability that the time between two Bitcoin blocks is less than the Ethereum mean block interval of 15 seconds?\n",
    "\n",
    "<a id='p2in1'></a>\n",
    "\n",
    "$$\n",
    "\\begin{align}\n",
    "E_{BTC}(x) &= 600 \\\\\n",
    "E_{ETH}(x) &= 15 \\\\\n",
    "x &= 15 \\\\\n",
    "\\lambda &= \\frac{1}{E_{BTC}(x)} \\\\\n",
    "P(X < 15) &= 1 - e^{-\\lambda \\cdot x} \\\\\n",
    "\\end{align}\n",
    "$$"
   ]
  },
  {
   "cell_type": "code",
   "execution_count": 279,
   "metadata": {},
   "outputs": [
    {
     "name": "stdout",
     "output_type": "stream",
     "text": [
      "The probability that the time between two Bitcoin blocks is less than 15 seconds is\n",
      "2.4690087971667385 %\n"
     ]
    }
   ],
   "source": [
    "import math\n",
    "vlambda = 1/(10*60)\n",
    "x = 15\n",
    "\n",
    "P_leq_eth = 1 - math.e**( -vlambda * x) \n",
    "print(\"The probability that the time between two Bitcoin blocks is less than 15 seconds is\\n{} %\".format(P_leq_eth * 100))"
   ]
  },
  {
   "cell_type": "markdown",
   "metadata": {},
   "source": [
    "What is the probability that this happens within $ N $ Bitcoin blocks i.e., \n",
    "what is the probability that the time between two Bitcoin blocks is smaller than $ 16 $ seconds during $ N $ total Bitcoin blocks?\n",
    "\n",
    "$$\n",
    "\\begin{align}\n",
    "P(N) &= 1 - ( 1 - P(X < 15) ) ^ {N-1}\n",
    "\\end{align}\n",
    "$$"
   ]
  },
  {
   "cell_type": "code",
   "execution_count": 280,
   "metadata": {},
   "outputs": [
    {
     "data": {
      "text/plain": [
       "53.9296219001035"
      ]
     },
     "execution_count": 280,
     "metadata": {},
     "output_type": "execute_result"
    }
   ],
   "source": [
    "N = 32\n",
    "P_within_N_btc = 1 - ( 1 - P_leq_eth )**(N-1)\n",
    "P_within_N_btc * 100"
   ]
  },
  {
   "cell_type": "markdown",
   "metadata": {},
   "source": [
    "What is the probability that two new Bitcoin blocks arrive within less than 15 seconds each?"
   ]
  },
  {
   "cell_type": "code",
   "execution_count": 228,
   "metadata": {
    "scrolled": true
   },
   "outputs": [
    {
     "data": {
      "text/plain": [
       "0.06096004440486745"
      ]
     },
     "execution_count": 228,
     "metadata": {},
     "output_type": "execute_result"
    }
   ],
   "source": [
    "P_leq_eth * P_leq_eth * 100"
   ]
  },
  {
   "cell_type": "markdown",
   "metadata": {},
   "source": [
    "#### What is the probability that $2,3,...$ Bitcoin blocks are found within the Ethereum mean block interval of 15 seconds?\n",
    "\n",
    "We use a Poission point process, where the poission distribution parameter $ \\Lambda = E(N=n) = \\frac{t}{E_{BTC}(x)} $ referres to the expected value of the number of events happening within $ t $ time.\n",
    "$$\n",
    "\\begin{align}\n",
    "P(N=n) &= \\frac{\\Lambda^n}{n!} \\cdot e^{-\\Lambda} \\\\\n",
    "\\lambda &= \\frac{1}{E_{BTC}(x)} = 1/600 \\\\\n",
    "\\Lambda &= E(N=n) = t/600 \\\\\n",
    "t &= 15 \\\\\n",
    "n &\\in \\{1,2,3,...\\}\n",
    "\\end{align}\n",
    "$$\n",
    "Note that $ n=1 $ already stands for two sequential Bitcoin blocks since we assume Bitcoin and Ethereum start at the same point in time ($ n = 0 $) with a new block each. So if the first Bitcoin block is found before the mean Ethereum block interval we have it that two Bitcoin blocks have been found without a Ethereum block in between. "
   ]
  },
  {
   "cell_type": "markdown",
   "metadata": {},
   "source": [
    "What is the probability that **exaclty** $ n $ Bitcoin blocks are found within the mean Etheruem block interval of $15$ seconds?"
   ]
  },
  {
   "cell_type": "code",
   "execution_count": 128,
   "metadata": {},
   "outputs": [
    {
     "data": {
      "text/plain": [
       "2.4382747800708318"
      ]
     },
     "execution_count": 128,
     "metadata": {},
     "output_type": "execute_result"
    }
   ],
   "source": [
    "def P_n_within_t(n,t,E_x):\n",
    "    Lambda = t/E_x\n",
    "    P_n_within_t = ( ( Lambda**n )/( math.factorial(n) ) ) * math.e**( - Lambda ) \n",
    "    return P_n_within_t \n",
    "\n",
    "n = 1\n",
    "E_x = 600\n",
    "t = 15\n",
    "P_n_within_t(n,t,E_x) * 100"
   ]
  },
  {
   "cell_type": "code",
   "execution_count": 124,
   "metadata": {},
   "outputs": [
    {
     "data": {
      "text/plain": [
       "2.4382747800708318"
      ]
     },
     "execution_count": 124,
     "metadata": {},
     "output_type": "execute_result"
    }
   ],
   "source": [
    "# Double check with scipy\n",
    "n = 1\n",
    "E_x = 600\n",
    "mu = t/E_x\n",
    "assert scipy.stats.poisson.pmf(n,mu)*100 == P_n_within_t(n,t,E_x)*100\n",
    "\n",
    "scipy.stats.poisson.pmf(n,mu) * 100 "
   ]
  },
  {
   "cell_type": "code",
   "execution_count": 107,
   "metadata": {},
   "outputs": [
    {
     "data": {
      "text/plain": [
       "0.0304784347508854"
      ]
     },
     "execution_count": 107,
     "metadata": {},
     "output_type": "execute_result"
    }
   ],
   "source": [
    "n = 2\n",
    "t = 15\n",
    "E_x = 600\n",
    "P_n_within_t(n,t,E_x) * 100"
   ]
  },
  {
   "cell_type": "markdown",
   "metadata": {},
   "source": [
    "What is the probability that **at least** $ n $ Bitcoin blocks are found within the mean Etheruem block interval of $15$ seconds?"
   ]
  },
  {
   "cell_type": "markdown",
   "metadata": {},
   "source": [
    "Lets approximate the result first by iterating and adding the next values of $ n $ to get\n",
    "the value for at least $ n $ blocks within time $ t $. \n",
    "For $ n = 1 $ this should be approximately the same value as calculated previously for the probability that the time between two Bitcoin blocks is smaller than the Ethereum block intervall of $ 15 $ seconds i.e., $ 2.4690087971667385 \\% $ \n",
    "\n",
    "[see here](#p2in1)"
   ]
  },
  {
   "cell_type": "code",
   "execution_count": 34,
   "metadata": {},
   "outputs": [
    {
     "data": {
      "text/plain": [
       "2.4687532148217173"
      ]
     },
     "execution_count": 34,
     "metadata": {},
     "output_type": "execute_result"
    }
   ],
   "source": [
    "P_n_within_t(n,t,E_x) * 100 + P_n_within_t(2,15,600) * 100 # ..."
   ]
  },
  {
   "cell_type": "code",
   "execution_count": 61,
   "metadata": {},
   "outputs": [
    {
     "data": {
      "text/plain": [
       "2.4690087971667327"
      ]
     },
     "execution_count": 61,
     "metadata": {},
     "output_type": "execute_result"
    }
   ],
   "source": [
    "# approximate the result by iterating and adding the next values of n\n",
    "def P_at_least_n_within_t_approx(n,t,E_x,iterations=10):\n",
    "    p = 0\n",
    "    for i in range(n,n+iterations):\n",
    "        p += P_n_within_t(i,t,E_x)\n",
    "    return p\n",
    "    \n",
    "n = 1\n",
    "t = 15\n",
    "E_x = 600\n",
    "P_at_least_n_within_t_approx(n,t,E_x) * 100"
   ]
  },
  {
   "cell_type": "code",
   "execution_count": 62,
   "metadata": {},
   "outputs": [
    {
     "data": {
      "text/plain": [
       "0.03073401709590147"
      ]
     },
     "execution_count": 62,
     "metadata": {},
     "output_type": "execute_result"
    }
   ],
   "source": [
    "P_at_least_n_within_t_approx(2,15,600) * 100"
   ]
  },
  {
   "cell_type": "code",
   "execution_count": 59,
   "metadata": {},
   "outputs": [
    {
     "data": {
      "text/plain": [
       "0.0304784347508854"
      ]
     },
     "execution_count": 59,
     "metadata": {},
     "output_type": "execute_result"
    }
   ],
   "source": [
    "P_n_within_t(2,15,600) * 100 # for comparison"
   ]
  },
  {
   "cell_type": "code",
   "execution_count": 63,
   "metadata": {},
   "outputs": [
    {
     "data": {
      "text/plain": [
       "0.0002555823450160699"
      ]
     },
     "execution_count": 63,
     "metadata": {},
     "output_type": "execute_result"
    }
   ],
   "source": [
    "P_at_least_n_within_t_approx(3,15,600) * 100"
   ]
  },
  {
   "cell_type": "code",
   "execution_count": 64,
   "metadata": {},
   "outputs": [
    {
     "data": {
      "text/plain": [
       "1.5953887586915409e-06"
      ]
     },
     "execution_count": 64,
     "metadata": {},
     "output_type": "execute_result"
    }
   ],
   "source": [
    "P_at_least_n_within_t_approx(4,15,600) * 100"
   ]
  },
  {
   "cell_type": "code",
   "execution_count": 65,
   "metadata": {},
   "outputs": [
    {
     "data": {
      "text/plain": [
       "7.97028208292581e-09"
      ]
     },
     "execution_count": 65,
     "metadata": {},
     "output_type": "execute_result"
    }
   ],
   "source": [
    "P_at_least_n_within_t_approx(5,15,600) * 100"
   ]
  },
  {
   "cell_type": "markdown",
   "metadata": {},
   "source": [
    "To accurately capture this case we use the complementary probability of the CDF of the Poisson Distribution.\n",
    "We calulate the probability to find at least $ n $ blocks within time $ t $ and expected value $ E[x] $ as mean time between Bitcoin blocks.\n",
    "Therefore $ \\lambda = t/E[x] $ is the average number of events per interval.\n",
    "We calculate the complementary probability for finding at most $ n-1 $ blocks as follows.\n",
    "$$\n",
    "\\begin{align}\n",
    "P(X > n) &= 1 - P(X \\leq n-1) \\\\\n",
    "P(X \\leq n) &= F(x) = e^{-\\lambda } \\sum_{i=0}^{n-1} \\frac{\\lambda ^i}{i!}\n",
    "\\end{align}\n",
    "$$"
   ]
  },
  {
   "cell_type": "code",
   "execution_count": 289,
   "metadata": {},
   "outputs": [
    {
     "data": {
      "text/plain": [
       "2.4690087971667385"
      ]
     },
     "execution_count": 289,
     "metadata": {},
     "output_type": "execute_result"
    }
   ],
   "source": [
    "def P_at_least_n_within_t(n,t,E_x):\n",
    "    Lambda = t/E_x\n",
    "    p = 0\n",
    "    for i in range(0,n): # is equal to {0,...,n-1} \n",
    "        p += ( Lambda**i ) / ( math.factorial(i) )\n",
    "    return 1 - ( math.e**(-Lambda) * p )\n",
    "\n",
    "n = 1\n",
    "t = 15\n",
    "E_x = 600\n",
    "P_at_least_n_within_t(n,t,E_x) * 100"
   ]
  },
  {
   "cell_type": "code",
   "execution_count": 290,
   "metadata": {},
   "outputs": [
    {
     "data": {
      "text/plain": [
       "2.4690087971667385"
      ]
     },
     "execution_count": 290,
     "metadata": {},
     "output_type": "execute_result"
    }
   ],
   "source": [
    "# Double check with scipy and complementary probability of cdf(0).\n",
    "# i.e., the complement of the probability that 0 (or less) blocks are found during 15 seconds?\n",
    "n = 0\n",
    "E_x = 600\n",
    "t = 15\n",
    "mu = t/E_x\n",
    "assert P_at_least_n_within_t(1,t,E_x) == (1 - scipy.stats.poisson(mu).cdf(0))\n",
    "\n",
    "(1 - scipy.stats.poisson(mu).cdf(n)) * 100"
   ]
  },
  {
   "cell_type": "code",
   "execution_count": 291,
   "metadata": {},
   "outputs": [
    {
     "data": {
      "text/plain": [
       "2.4690087971667385"
      ]
     },
     "execution_count": 291,
     "metadata": {},
     "output_type": "execute_result"
    }
   ],
   "source": [
    "# Double check with probability that the time between two Bitcoin blocks is \n",
    "# less than 15 seconds.\n",
    "n = 1\n",
    "t = x = 15\n",
    "E_x = 600\n",
    "vlambda = 1/E_x\n",
    "assert P_at_least_n_within_t(n,t,E_x) * 100 == (1 - math.e**( -vlambda * x) )*100\n",
    "P_at_least_n_within_t(n,t,E_x) * 100"
   ]
  },
  {
   "cell_type": "markdown",
   "metadata": {},
   "source": [
    "Double check this case by using the continous Erlang distribution.\n",
    "We calulate the probability to find at least $ n $ blocks within time $ t $ and expected value $ E[x] $ as mean time between Bitcoin blocks as follows.\n",
    "\n",
    "The probability that $ n $ (sometimes denoted $ k $ and refered to as \"shape\") events happen in time $ x $ when $ \\lambda = 1/E[x] $ is the rate at which events happen. $ \\mu = 1/\\lambda $ is the reciprocal of the rate and sometimes refered to as \"scale\". \n",
    "\n",
    "$$\n",
    "\\begin{align}\n",
    "F(x) &= \\begin{cases}\n",
    "            1 - e^{-\\lambda x} \\sum_{i=0}^{n-1} \\frac{(\\lambda x)^i}{i!}                       & x  \\geq 0, \\\\\n",
    "            0                          & x     < 0\n",
    "        \\end{cases} \\\\\n",
    "\\end{align}\n",
    "$$\n"
   ]
  },
  {
   "cell_type": "code",
   "execution_count": 292,
   "metadata": {},
   "outputs": [
    {
     "data": {
      "text/plain": [
       "2.4690087971667385"
      ]
     },
     "execution_count": 292,
     "metadata": {},
     "output_type": "execute_result"
    }
   ],
   "source": [
    "def P_at_least_n_within_t_erlang(n,t,E_x):\n",
    "    Lambda = 1/E_x\n",
    "    x = t\n",
    "    p = 0\n",
    "    for i in range(0,n): # is equal to {0,...,n-1} \n",
    "        p += ( ( Lambda * x )**i ) / ( math.factorial(i) )\n",
    "    return 1 - ( math.e**(-Lambda*x) * p )  \n",
    "\n",
    "n = 1\n",
    "t = 15\n",
    "E_x = 600\n",
    "assert P_at_least_n_within_t(n,t,E_x) * 100 == P_at_least_n_within_t_erlang(n,t,E_x) * 100\n",
    "P_at_least_n_within_t_erlang(n,t,E_x) * 100"
   ]
  },
  {
   "cell_type": "code",
   "execution_count": 293,
   "metadata": {},
   "outputs": [
    {
     "data": {
      "text/plain": [
       "2.469008797166733"
      ]
     },
     "execution_count": 293,
     "metadata": {},
     "output_type": "execute_result"
    }
   ],
   "source": [
    "# Double check with scipy\n",
    "n = 1\n",
    "t = 15\n",
    "E_x = 600\n",
    "assert scipy.stats.erlang(a=n, scale=1/(1/E_x)).cdf(t) * 100 == scipy.stats.erlang(a=n, scale=E_x).cdf(t) * 100\n",
    "scipy.stats.erlang(a=n, scale=E_x).cdf(t) * 100"
   ]
  },
  {
   "cell_type": "code",
   "execution_count": 294,
   "metadata": {},
   "outputs": [
    {
     "data": {
      "text/plain": [
       "0.03073401709590146"
      ]
     },
     "execution_count": 294,
     "metadata": {},
     "output_type": "execute_result"
    }
   ],
   "source": [
    "n = 2\n",
    "E_x = 600\n",
    "t = 15\n",
    "scipy.stats.erlang(a=n, scale=E_x).cdf(t) * 100"
   ]
  },
  {
   "cell_type": "code",
   "execution_count": 295,
   "metadata": {},
   "outputs": [
    {
     "data": {
      "text/plain": [
       "0.0307340170959014"
      ]
     },
     "execution_count": 295,
     "metadata": {},
     "output_type": "execute_result"
    }
   ],
   "source": [
    "# Double check against complement of Poisson cdf\n",
    "n = 2\n",
    "E_x = 600\n",
    "t = 15\n",
    "mu = t/E_x\n",
    "(1 - scipy.stats.poisson(mu).cdf(n-1)) * 100"
   ]
  },
  {
   "cell_type": "code",
   "execution_count": 296,
   "metadata": {},
   "outputs": [
    {
     "data": {
      "text/plain": [
       "0.030734017095912503"
      ]
     },
     "execution_count": 296,
     "metadata": {},
     "output_type": "execute_result"
    }
   ],
   "source": [
    "n = 2\n",
    "E_x = 600\n",
    "t = 15\n",
    "P_at_least_n_within_t_erlang(n,t,E_x) * 100"
   ]
  },
  {
   "cell_type": "code",
   "execution_count": 297,
   "metadata": {},
   "outputs": [
    {
     "data": {
      "text/plain": [
       "0.030734017095912503"
      ]
     },
     "execution_count": 297,
     "metadata": {},
     "output_type": "execute_result"
    }
   ],
   "source": [
    "n = 2\n",
    "t = 15\n",
    "E_x = 600\n",
    "P_at_least_n_within_t(n,t,E_x) * 100"
   ]
  },
  {
   "cell_type": "code",
   "execution_count": 298,
   "metadata": {},
   "outputs": [
    {
     "data": {
      "text/plain": [
       "0.0002555823450323125"
      ]
     },
     "execution_count": 298,
     "metadata": {},
     "output_type": "execute_result"
    }
   ],
   "source": [
    "n = 3\n",
    "t = 15\n",
    "E_x = 600\n",
    "P_at_least_n_within_t(n,t,E_x) * 100"
   ]
  },
  {
   "cell_type": "code",
   "execution_count": 299,
   "metadata": {},
   "outputs": [
    {
     "data": {
      "text/plain": [
       "1.5953887655406618e-06"
      ]
     },
     "execution_count": 299,
     "metadata": {},
     "output_type": "execute_result"
    }
   ],
   "source": [
    "n = 4\n",
    "t = 15\n",
    "E_x = 600\n",
    "P_at_least_n_within_t(n,t,E_x) * 100"
   ]
  },
  {
   "cell_type": "markdown",
   "metadata": {},
   "source": [
    "What is the probability that this happens within $ N $ Bitcoin blocks i.e., \n",
    "what is the probability that the time between three Bitcoin blocks is smaller than $ 15 $ seconds during $ N $ total Bitcoin blocks.\n",
    "\n",
    "$$\n",
    "\\begin{align}\n",
    "P(N) &= 1 - ( 1 - P(n) ) ^ {\\lceil N/n \\rceil}\n",
    "\\end{align}\n",
    "$$\n",
    "\n",
    "Recall both chains start at the same moment in time therefore $ n = 1 $ already stands for two sequential Bitcoin blocks"
   ]
  },
  {
   "cell_type": "code",
   "execution_count": 300,
   "metadata": {},
   "outputs": [
    {
     "data": {
      "text/plain": [
       "53.9296219001035"
      ]
     },
     "execution_count": 300,
     "metadata": {},
     "output_type": "execute_result"
    }
   ],
   "source": [
    "N = 32\n",
    "n = 1\n",
    "P_at_leat_n_within_N = 1 - ( 1 - P_at_least_n_within_t(n,15,600) )**(math.ceil((N-1)/n))\n",
    "P_at_leat_n_within_N * 100"
   ]
  },
  {
   "cell_type": "code",
   "execution_count": 301,
   "metadata": {},
   "outputs": [
    {
     "data": {
      "text/plain": [
       "53.47743873583954"
      ]
     },
     "execution_count": 301,
     "metadata": {},
     "output_type": "execute_result"
    }
   ],
   "source": [
    "# for comparision the less accurate value\n",
    "N = 32\n",
    "n = 1\n",
    "P_n_within_N = 1 - ( 1 - P_n_within_t(n,15,600) )**(math.ceil((N-1)/n))\n",
    "P_n_within_N * 100"
   ]
  },
  {
   "cell_type": "code",
   "execution_count": 302,
   "metadata": {},
   "outputs": [
    {
     "data": {
      "text/plain": [
       "0.49061240186469846"
      ]
     },
     "execution_count": 302,
     "metadata": {},
     "output_type": "execute_result"
    }
   ],
   "source": [
    "# 3 Bitcoin blocks within 15 seconds over N total Bitcoin blocks\n",
    "N = 32\n",
    "n = 2 \n",
    "P_at_leat_n_within_N = 1 - ( 1 - P_at_least_n_within_t(n,15,600) )**(math.ceil((N-1)/n))\n",
    "P_at_leat_n_within_N * 100"
   ]
  },
  {
   "cell_type": "code",
   "execution_count": 303,
   "metadata": {},
   "outputs": [
    {
     "data": {
      "text/plain": [
       "0.49061240186469846"
      ]
     },
     "execution_count": 303,
     "metadata": {},
     "output_type": "execute_result"
    }
   ],
   "source": [
    "# 3 Bitcoin blocks within 15 seconds over N total Bitcoin blocks\n",
    "N = 32\n",
    "n = 2 \n",
    "P_at_least_n_within_N = 1 - ( 1 - P_at_least_n_within_t_erlang(n,15,600) )**(math.ceil((N-1)/n))\n",
    "P_at_least_n_within_N * 100"
   ]
  },
  {
   "cell_type": "code",
   "execution_count": 304,
   "metadata": {},
   "outputs": [
    {
     "data": {
      "text/plain": [
       "0.0028113698683496224"
      ]
     },
     "execution_count": 304,
     "metadata": {},
     "output_type": "execute_result"
    }
   ],
   "source": [
    "N = 32\n",
    "n = 3\n",
    "P_at_leat_n_within_N = 1 - ( 1 - P_at_least_n_within_t(n,15,600) )**(math.ceil((N-1)/n))\n",
    "P_at_leat_n_within_N * 100"
   ]
  },
  {
   "cell_type": "code",
   "execution_count": 305,
   "metadata": {},
   "outputs": [
    {
     "data": {
      "text/plain": [
       "1.2763109413782558e-05"
      ]
     },
     "execution_count": 305,
     "metadata": {},
     "output_type": "execute_result"
    }
   ],
   "source": [
    "N = 32\n",
    "n = 4\n",
    "P_at_leat_n_within_N = 1 - ( 1 - P_at_least_n_within_t(n,15,600) )**(math.ceil((N-1)/n))\n",
    "P_at_leat_n_within_N * 100"
   ]
  },
  {
   "cell_type": "markdown",
   "metadata": {},
   "source": [
    "#### Probability that the time between two Ethereum blocks is larger than the mean Bitcoin block interval\n",
    "\n",
    "What is the probability that the time between two Ethereum blocks is larger than the Bitcoin mean block interval of 600 seconds?\n",
    "\n",
    "$$\n",
    "\\begin{align}\n",
    "E_{BTC}(x) &= 600 \\\\\n",
    "E_{ETH}(x) &= 15 \\\\\n",
    "x &= 600 \\\\\n",
    "\\lambda &= \\frac{1}{E_{ETH}(x)} \\\\\n",
    "P(X \\geq x) &= e^{-\\lambda \\cdot x} \\\\\n",
    "\\end{align}\n",
    "$$"
   ]
  },
  {
   "cell_type": "code",
   "execution_count": 238,
   "metadata": {},
   "outputs": [
    {
     "data": {
      "text/plain": [
       "4.248354255291598e-16"
      ]
     },
     "execution_count": 238,
     "metadata": {},
     "output_type": "execute_result"
    }
   ],
   "source": [
    "import math\n",
    "vlambda = 1/(15)\n",
    "x = 600\n",
    "\n",
    "P_gt_btc = math.e**( - vlambda * x ) \n",
    "P_gt_btc * 100"
   ]
  },
  {
   "cell_type": "markdown",
   "metadata": {},
   "source": [
    "#### Probability that during a time period $ t $, a Bitcoin block is mined before an Ethereum block\n",
    "\n",
    "Assuming both chains are synchronized and miners start their search for the next block at the same time on the respective chains. \n",
    "What is that probability that during the whole time period the next Bitcoin block is mined before the next Etheruem block. \n",
    "\n",
    "$$\n",
    "\\begin{align}\n",
    "P_{ETH}(X \\geq x) &= e^{-\\frac{1}{15} \\cdot x} \\\\\n",
    "P_{BTC}(X < x)    &= 1 - e^{-\\frac{1}{600} \\cdot (x+1)} \\\\\n",
    "P(t) &= \\sum_{i=0}^{t} P_{ETH}(X \\geq x) \\cdot P_{BTC}(X < x) \n",
    "\\end{align}\n",
    "$$"
   ]
  },
  {
   "cell_type": "code",
   "execution_count": 239,
   "metadata": {},
   "outputs": [
    {
     "name": "stdout",
     "output_type": "stream",
     "text": [
      "\n",
      "The probability that a Bitcoin block arrives before an Ethereum block in an interval of 200 seconds is\n",
      " 38.92540017492136 %\n"
     ]
    }
   ],
   "source": [
    "# P_e(X >= x_1) * P_b(X < (x_1 + 1) ) + P_e(X >= x_2) * P_b(X < (x_2 + 1) + ...\n",
    "\n",
    "def P_e(x,vbeta):\n",
    "    # P(X >= x)\n",
    "    vlambda = 1/vbeta\n",
    "    return math.e**( - vlambda * x )\n",
    "\n",
    "def P_b(x,vbeta):\n",
    "    # P(X < (x+1))\n",
    "    vlambda = 1/vbeta\n",
    "    return 1 - math.e**( - vlambda * (x+1) )\n",
    "\n",
    "t = 200\n",
    "P = 0\n",
    "for i in range(1,t):\n",
    "    #print(\"{:3}: {:8.7f}\".format(i,P))\n",
    "    P += P_e(i,15) * P_b(i,600) \n",
    "    \n",
    "print(\"\\nThe probability that a Bitcoin block arrives before an Ethereum block in an interval of {} seconds is\\n {} %\".format(t,P * 100))"
   ]
  },
  {
   "cell_type": "markdown",
   "metadata": {},
   "source": [
    "### Simulation of desynchronization\n",
    "\n",
    "Simulate the two chains and check if there ever occures a case where a sequence of Bitcoin blocks are mined without any Ethereuem block in between. "
   ]
  },
  {
   "cell_type": "code",
   "execution_count": 86,
   "metadata": {},
   "outputs": [
    {
     "name": "stdout",
     "output_type": "stream",
     "text": [
      "[  83.55043764  374.36835142  766.31137135  332.40800925   26.49866951\n",
      "  219.18551738  575.7332083   146.04332719  780.02926848  432.60746517\n",
      " 2167.80195398  513.17896184   35.11800783  800.66710943 1289.29244439\n",
      "  385.76045313  186.91829261 2201.86874611  310.95765785 2672.92551806\n",
      " 1359.45496913  772.71681111  263.81065206   22.33187193  922.53126095\n",
      "  129.83968102  114.62098642  262.41891004  147.28642542 1322.86686897\n",
      "  592.65075632  407.4482972 ]\n",
      " lambda       =  0.0016666666666666668\n",
      " E(x)  (beta) =  600\n",
      " Var(x)       =  360000\n"
     ]
    }
   ],
   "source": [
    "import numpy\n",
    "vbeta_btc = 10*60 # mean time between Bitcoin blocks (whole network)\n",
    "N_btc = 32 # Total number of Bitcoin block events for the attack \n",
    "\n",
    "vlambda_btc = 1/vbeta_btc\n",
    "rand_btc = numpy.random.exponential(vbeta_btc,N_btc)\n",
    "print(rand_btc)\n",
    "#print(np.cumsum(rand))  # sort values ascending\n",
    "print(\" lambda       = \",vlambda_btc)\n",
    "print(\" E(x)  (beta) = \",vbeta_btc)\n",
    "print(\" Var(x)       = \",vbeta_btc**2)"
   ]
  },
  {
   "cell_type": "code",
   "execution_count": 87,
   "metadata": {},
   "outputs": [
    {
     "name": "stdout",
     "output_type": "stream",
     "text": [
      "[64.81118118  4.50272137 57.48098529 ...  1.56348808  0.940282\n",
      " 12.4108588 ]\n",
      " len(rand_eth)=  1512\n",
      " lambda       =  0.06666666666666667\n",
      " E(x)  (beta) =  15\n",
      " Var(x)       =  225\n"
     ]
    }
   ],
   "source": [
    "import numpy\n",
    "vbeta_eth = 15 # mean time between Ethereum blocks \n",
    "N_eth = int( (sum(rand_btc).item() / vbeta_eth) + (sum(rand_btc).item() / vbeta_eth)*0.1 ) # Total number of Ethereum block events for the attack plus some extra margin\n",
    "\n",
    "vlambda_eth = 1/vbeta_eth\n",
    "rand_eth = numpy.random.exponential(vbeta_eth,N_eth)\n",
    "print(rand_eth)\n",
    "#print(np.cumsum(rand))  # sort values ascending\n",
    "print(\" len(rand_eth)= \",len(rand_eth))\n",
    "print(\" lambda       = \",vlambda_eth)\n",
    "print(\" E(x)  (beta) = \",vbeta_eth)\n",
    "print(\" Var(x)       = \",vbeta_eth**2)"
   ]
  },
  {
   "cell_type": "code",
   "execution_count": 88,
   "metadata": {},
   "outputs": [
    {
     "data": {
      "text/plain": [
       "'success'"
      ]
     },
     "execution_count": 88,
     "metadata": {},
     "output_type": "execute_result"
    }
   ],
   "source": [
    "def find_block_in_the_middle(begin,end,input_list):\n",
    "    t = 0 \n",
    "    for k in input_list:\n",
    "        t += k\n",
    "        if t > begin and t < end:\n",
    "            return True\n",
    "        if t > end:\n",
    "            return False\n",
    "    return False\n",
    "\n",
    "def compare_chains(rand_btc_list,rand_eth_list,verbose=False,sequence=2):\n",
    "    \"\"\"\n",
    "    Check if a sequence of n bitcoin blocks exists which \n",
    "    is not interrupted by a ethereum block somewhere in between\n",
    "    \"\"\"\n",
    "    btc_time = 0\n",
    "    btc_blkcnt = 0\n",
    "    eth_time = 0\n",
    "    eth_blkcnt = 0\n",
    "    \n",
    "    fail_cnt = 0 \n",
    "    blkgap = 0\n",
    "    \n",
    "    sequence = sequence - 1 # reduce sequence by one since we count additional blocks starting from current\n",
    "    \n",
    "    begin_btc = 0 \n",
    "    for i in range(0,len(rand_btc_list)):\n",
    "        begin_btc += rand_btc_list[i]\n",
    "        end_btc = begin_btc\n",
    "        if i+sequence < len(rand_btc_list):\n",
    "            for j in range(1,sequence+1):\n",
    "                pos = i+j\n",
    "                end_btc += rand_btc_list[pos]\n",
    "        if begin_btc != end_btc and not find_block_in_the_middle(begin_btc,end_btc,rand_eth_list):\n",
    "            if verbose: \n",
    "                esum = 0\n",
    "                for num,entry in enumerate(rand_eth_list):\n",
    "                    esum += entry\n",
    "                    if esum > begin_btc*0.8:\n",
    "                        print(\"ETH: {:4d} : {:8.4f} += {:10.4f}\".format(num,entry,esum))\n",
    "                    if esum > end_btc:\n",
    "                        break\n",
    "                print(\"inter: {} - {}  begin: [{}] = {} end: [{}] = {}\".format(begin_btc,\n",
    "                                                                                end_btc,\n",
    "                                                                                i,\n",
    "                                                                                rand_btc_list[i],\n",
    "                                                                                pos,\n",
    "                                                                                rand_btc_list[pos]))       \n",
    "                esum = 0 \n",
    "                for num,entry in enumerate(rand_btc_list):\n",
    "                    esum += entry\n",
    "                    if num >= i:\n",
    "                        print(\"\\tBTC: {:4d} : {:8.4f} += {:10.4f}\".format(num,entry,esum))\n",
    "                    if num > pos:\n",
    "                        break\n",
    "                    \n",
    "                \n",
    "            return \"fail\"\n",
    "    return \"success\"\n",
    "\n",
    "rand_btc_list = rand_btc.tolist()\n",
    "rand_eth_list = rand_eth.tolist()\n",
    "\n",
    "compare_chains(rand_btc_list,rand_eth_list,True,sequence=1)"
   ]
  },
  {
   "cell_type": "code",
   "execution_count": 89,
   "metadata": {
    "scrolled": true
   },
   "outputs": [
    {
     "data": {
      "text/plain": [
       "'success'"
      ]
     },
     "execution_count": 89,
     "metadata": {},
     "output_type": "execute_result"
    }
   ],
   "source": [
    "def simulate_chains(vbeta_btc,vbeta_eth,N_btc,verbose=False,sequence=2):\n",
    "    rand_btc = numpy.random.exponential(vbeta_btc,N_btc)\n",
    "    N_eth = int( (sum(rand_btc).item() / vbeta_eth) + (sum(rand_btc).item() / vbeta_eth)*0.33 ) # Total number of Ethereum block events for the attack plus some\n",
    "    rand_eth = numpy.random.exponential(vbeta_eth,N_eth)\n",
    "    \n",
    "    rand_btc_list = rand_btc.tolist()\n",
    "    rand_eth_list = rand_eth.tolist()\n",
    "\n",
    "    return compare_chains(rand_btc_list,rand_eth_list,verbose,sequence) \n",
    "    \n",
    "simulate_chains(600,15,32,False)"
   ]
  },
  {
   "cell_type": "code",
   "execution_count": 90,
   "metadata": {
    "scrolled": true
   },
   "outputs": [
    {
     "name": "stdout",
     "output_type": "stream",
     "text": [
      "fail      : 53.0\n",
      "success   : 47.0\n"
     ]
    }
   ],
   "source": [
    "from collections import Counter\n",
    "\n",
    "def simulation_run(iterations,N_btc,sequence):\n",
    "    cnt = Counter()\n",
    "    for i in range(0,iterations):\n",
    "        cnt[simulate_chains(600,15,N_btc,False,sequence)] += 1\n",
    "\n",
    "    k1 = cnt.most_common(2)[0][0]\n",
    "    v1 = (cnt.most_common(2)[0][1]/iterations)*100\n",
    "    if len(cnt.most_common(2)) > 1:\n",
    "        k2 = cnt.most_common(2)[1][0]\n",
    "        v2 = (cnt.most_common(2)[1][1]/iterations)*100\n",
    "    else:\n",
    "        k2 = \"fail\"\n",
    "        v2 = 0  \n",
    "    print(\"{:10}: {}\\n{:10}: {}\".format(k1,v1,k2,v2))\n",
    "    \n",
    "    \n",
    "iterations = 100\n",
    "N_btc = 32\n",
    "sequence = 2\n",
    "simulation_run(iterations,N_btc,sequence)"
   ]
  },
  {
   "cell_type": "code",
   "execution_count": 91,
   "metadata": {},
   "outputs": [
    {
     "name": "stdout",
     "output_type": "stream",
     "text": [
      "fail      : 54.26\n",
      "success   : 45.739999999999995\n"
     ]
    }
   ],
   "source": [
    "iterations = 10000\n",
    "N_btc = 32\n",
    "sequence = 2\n",
    "\n",
    "simulation_run(iterations,N_btc,sequence)"
   ]
  },
  {
   "cell_type": "code",
   "execution_count": 281,
   "metadata": {},
   "outputs": [
    {
     "data": {
      "text/plain": [
       "53.9296219001035"
      ]
     },
     "execution_count": 281,
     "metadata": {},
     "output_type": "execute_result"
    }
   ],
   "source": [
    "# compare with calculated approximation\n",
    "N = 32\n",
    "P_within_N_btc = 1 - ( 1 - (1 - math.e**( -vlambda * x)) )**(N-1)\n",
    "P_within_N_btc * 100"
   ]
  },
  {
   "cell_type": "code",
   "execution_count": 282,
   "metadata": {},
   "outputs": [
    {
     "data": {
      "text/plain": [
       "53.9296219001035"
      ]
     },
     "execution_count": 282,
     "metadata": {},
     "output_type": "execute_result"
    }
   ],
   "source": [
    "# compare with other calculated approximation\n",
    "N = 32\n",
    "n = 1\n",
    "P_at_least_n_within_N = 1 - ( 1 - P_at_least_n_within_t(n,15,600) )**(math.ceil((N-1)/n))\n",
    "P_at_least_n_within_N * 100"
   ]
  },
  {
   "cell_type": "code",
   "execution_count": 132,
   "metadata": {},
   "outputs": [
    {
     "name": "stdout",
     "output_type": "stream",
     "text": [
      "success   : 98.37\n",
      "fail      : 1.63\n"
     ]
    }
   ],
   "source": [
    "iterations = 10000\n",
    "N_btc = 32\n",
    "sequence = 3\n",
    "\n",
    "simulation_run(iterations,N_btc,sequence)"
   ]
  },
  {
   "cell_type": "code",
   "execution_count": 261,
   "metadata": {},
   "outputs": [
    {
     "data": {
      "text/plain": [
       "0.49061240186469846"
      ]
     },
     "execution_count": 261,
     "metadata": {},
     "output_type": "execute_result"
    }
   ],
   "source": [
    "# compare with calculated approximation\n",
    "N = 32\n",
    "n = 2\n",
    "P_at_least_n_within_N = 1 - ( 1 - P_at_least_n_within_t(n,15,600) )**(math.ceil((N-1)/n))\n",
    "P_at_least_n_within_N * 100"
   ]
  },
  {
   "cell_type": "code",
   "execution_count": 297,
   "metadata": {},
   "outputs": [
    {
     "name": "stdout",
     "output_type": "stream",
     "text": [
      "success   : 99.92\n",
      "fail      : 0.08\n"
     ]
    }
   ],
   "source": [
    "iterations = 10000\n",
    "N_btc = 32\n",
    "sequence = 4\n",
    "\n",
    "simulation_run(iterations,N_btc,sequence)"
   ]
  },
  {
   "cell_type": "code",
   "execution_count": 262,
   "metadata": {},
   "outputs": [
    {
     "data": {
      "text/plain": [
       "0.0028113698683496224"
      ]
     },
     "execution_count": 262,
     "metadata": {},
     "output_type": "execute_result"
    }
   ],
   "source": [
    "# compare with calculated approximation\n",
    "N = 32\n",
    "n = 3\n",
    "P_at_least_n_within_N = 1 - ( 1 - P_at_least_n_within_t(n,15,600) )**(math.ceil((N-1)/n))\n",
    "P_at_least_n_within_N * 100"
   ]
  },
  {
   "cell_type": "code",
   "execution_count": 248,
   "metadata": {},
   "outputs": [
    {
     "name": "stdout",
     "output_type": "stream",
     "text": [
      "success   : 100.0\n",
      "fail      : 0\n"
     ]
    }
   ],
   "source": [
    "iterations = 10000\n",
    "N_btc = 32\n",
    "sequence = 5\n",
    "\n",
    "simulation_run(iterations,N_btc,sequence)"
   ]
  },
  {
   "cell_type": "code",
   "execution_count": 249,
   "metadata": {},
   "outputs": [
    {
     "name": "stdout",
     "output_type": "stream",
     "text": [
      "success   : 100.0\n",
      "fail      : 0\n"
     ]
    }
   ],
   "source": [
    "iterations = 10000\n",
    "N_btc = 32\n",
    "sequence = 6\n",
    "\n",
    "simulation_run(iterations,N_btc,sequence)"
   ]
  },
  {
   "cell_type": "markdown",
   "metadata": {},
   "source": [
    "##  Calculate some concreate values for P2W attacks"
   ]
  },
  {
   "cell_type": "markdown",
   "metadata": {},
   "source": [
    "### precision limits"
   ]
  },
  {
   "cell_type": "code",
   "execution_count": 250,
   "metadata": {},
   "outputs": [
    {
     "data": {
      "text/plain": [
       "518"
      ]
     },
     "execution_count": 250,
     "metadata": {},
     "output_type": "execute_result"
    }
   ],
   "source": [
    "# approx smallest target probability (99,510916 %) which can be calculated for smallest omega form the \n",
    "# whale attack paper (53,2%)\n",
    "attack_N(k=6,omega=0.532,success_prob=0.99510916) "
   ]
  },
  {
   "cell_type": "code",
   "execution_count": 251,
   "metadata": {},
   "outputs": [
    {
     "data": {
      "text/plain": [
       "516"
      ]
     },
     "execution_count": 251,
     "metadata": {},
     "output_type": "execute_result"
    }
   ],
   "source": [
    "# for k=1 max target is 99,89713 %\n",
    "attack_N(k=1,omega=0.532,success_prob=0.9989713) "
   ]
  },
  {
   "cell_type": "code",
   "execution_count": 252,
   "metadata": {},
   "outputs": [
    {
     "data": {
      "text/plain": [
       "492"
      ]
     },
     "execution_count": 252,
     "metadata": {},
     "output_type": "execute_result"
    }
   ],
   "source": [
    "# approx smallest omega which can be calculated with floats and target probability 99%\n",
    "attack_N(k=1,omega=0.517,success_prob=0.99) "
   ]
  },
  {
   "cell_type": "code",
   "execution_count": 253,
   "metadata": {},
   "outputs": [
    {
     "data": {
      "text/plain": [
       "21"
      ]
     },
     "execution_count": 253,
     "metadata": {},
     "output_type": "execute_result"
    }
   ],
   "source": [
    "math.ceil(attack_expected(k=1,N=492,omega=0.52)) # expected number of blocks for this value"
   ]
  },
  {
   "cell_type": "code",
   "execution_count": 254,
   "metadata": {},
   "outputs": [
    {
     "data": {
      "text/plain": [
       "80.42228576559889"
      ]
     },
     "execution_count": 254,
     "metadata": {},
     "output_type": "execute_result"
    }
   ],
   "source": [
    "attack_prob(k=1,N=21,omega=0.517)*100 # Probability of success after that many extra rewarded blocks"
   ]
  },
  {
   "cell_type": "code",
   "execution_count": 255,
   "metadata": {},
   "outputs": [
    {
     "data": {
      "text/plain": [
       "3.5"
      ]
     },
     "execution_count": 255,
     "metadata": {},
     "output_type": "execute_result"
    }
   ],
   "source": [
    "21 * 10 / 60 # duration of the attack in hours (Bitcoin)"
   ]
  },
  {
   "cell_type": "code",
   "execution_count": 256,
   "metadata": {},
   "outputs": [
    {
     "data": {
      "text/plain": [
       "5.25"
      ]
     },
     "execution_count": 256,
     "metadata": {},
     "output_type": "execute_result"
    }
   ],
   "source": [
    "21 * 15 / 60 # duration of the attack in min. (Ethereum)"
   ]
  },
  {
   "cell_type": "code",
   "execution_count": 257,
   "metadata": {},
   "outputs": [
    {
     "data": {
      "text/plain": [
       "0.24259300512363563"
      ]
     },
     "execution_count": 257,
     "metadata": {},
     "output_type": "execute_result"
    }
   ],
   "source": [
    "catch_up(0.33,1)"
   ]
  },
  {
   "cell_type": "code",
   "execution_count": 258,
   "metadata": {},
   "outputs": [
    {
     "data": {
      "text/plain": [
       "18"
      ]
     },
     "execution_count": 258,
     "metadata": {},
     "output_type": "execute_result"
    }
   ],
   "source": [
    "attack_N(k=1,omega=0.33,success_prob=0.24)"
   ]
  },
  {
   "cell_type": "code",
   "execution_count": 259,
   "metadata": {},
   "outputs": [
    {
     "data": {
      "text/plain": [
       "0.2910004089476174"
      ]
     },
     "execution_count": 259,
     "metadata": {},
     "output_type": "execute_result"
    }
   ],
   "source": [
    "attack_expected(k=1,N=18,omega=0.24)"
   ]
  },
  {
   "cell_type": "code",
   "execution_count": 260,
   "metadata": {},
   "outputs": [],
   "source": [
    "def attack_limits(k,omega):\n",
    "    if omega > 0.5:\n",
    "        max_P = 0.99\n",
    "    else:\n",
    "        max_P = round(catch_up(omega,k) - 0.005,3) # round down to xx.xx precent \n",
    "    max_N = attack_N(k,omega,success_prob=max_P)\n",
    "    exp_N = math.ceil(attack_expected(k,max_N,omega))\n",
    "    P = attack_prob(k,max_N,omega)\n",
    "    exp_P = attack_prob(k,exp_N,omega)\n",
    "    return (max_P,max_N,P,exp_N,exp_P)"
   ]
  },
  {
   "cell_type": "code",
   "execution_count": 261,
   "metadata": {},
   "outputs": [
    {
     "data": {
      "text/plain": [
       "(0.99, 10, 0.9918480321939569, 3, 0.7734375)"
      ]
     },
     "execution_count": 261,
     "metadata": {},
     "output_type": "execute_result"
    }
   ],
   "source": [
    "attack_limits(k=1,omega=0.75)"
   ]
  },
  {
   "cell_type": "code",
   "execution_count": 262,
   "metadata": {},
   "outputs": [
    {
     "data": {
      "text/plain": [
       "(0.99, 14, 0.9910651106960298, 4, 0.8038449999999999)"
      ]
     },
     "execution_count": 262,
     "metadata": {},
     "output_type": "execute_result"
    }
   ],
   "source": [
    "attack_limits(k=1,omega=0.70)"
   ]
  },
  {
   "cell_type": "code",
   "execution_count": 263,
   "metadata": {},
   "outputs": [
    {
     "data": {
      "text/plain": [
       "(0.99, 20, 0.9912539206086541, 4, 0.7407712540800001)"
      ]
     },
     "execution_count": 263,
     "metadata": {},
     "output_type": "execute_result"
    }
   ],
   "source": [
    "attack_limits(k=1,omega=0.66)"
   ]
  },
  {
   "cell_type": "code",
   "execution_count": 264,
   "metadata": {},
   "outputs": [
    {
     "data": {
      "text/plain": [
       "(0.99, 40, 0.990470704444631, 6, 0.7563174911999999)"
      ]
     },
     "execution_count": 264,
     "metadata": {},
     "output_type": "execute_result"
    }
   ],
   "source": [
    "attack_limits(k=1,omega=0.60)"
   ]
  },
  {
   "cell_type": "code",
   "execution_count": 265,
   "metadata": {},
   "outputs": [
    {
     "data": {
      "text/plain": [
       "(0.99, 110, 0.9900241707488865, 10, 0.7689959555943652)"
      ]
     },
     "execution_count": 265,
     "metadata": {},
     "output_type": "execute_result"
    }
   ],
   "source": [
    "attack_limits(k=1,omega=0.55)"
   ]
  },
  {
   "cell_type": "code",
   "execution_count": 266,
   "metadata": {},
   "outputs": [
    {
     "data": {
      "text/plain": [
       "(0.99, 492, 0.9900027284393851, 22, 0.8100345454303343)"
      ]
     },
     "execution_count": 266,
     "metadata": {},
     "output_type": "execute_result"
    }
   ],
   "source": [
    "attack_limits(k=1,omega=0.517)"
   ]
  },
  {
   "cell_type": "code",
   "execution_count": 267,
   "metadata": {},
   "outputs": [
    {
     "data": {
      "text/plain": [
       "(0.84, 486, 0.8400113335971704, 17, 0.6649583480317608)"
      ]
     },
     "execution_count": 267,
     "metadata": {},
     "output_type": "execute_result"
    }
   ],
   "source": [
    "attack_limits(k=1,omega=0.479)"
   ]
  },
  {
   "cell_type": "code",
   "execution_count": 268,
   "metadata": {},
   "outputs": [
    {
     "data": {
      "text/plain": [
       "(0.238, 15, 0.23865995920614583, 1, 0)"
      ]
     },
     "execution_count": 268,
     "metadata": {},
     "output_type": "execute_result"
    }
   ],
   "source": [
    "attack_limits(k=1,omega=0.33)"
   ]
  },
  {
   "cell_type": "code",
   "execution_count": 269,
   "metadata": {},
   "outputs": [
    {
     "data": {
      "text/plain": [
       "(0.114, 14, 0.114256464672345, 1, 0)"
      ]
     },
     "execution_count": 269,
     "metadata": {},
     "output_type": "execute_result"
    }
   ],
   "source": [
    "attack_limits(k=2,omega=0.33)"
   ]
  },
  {
   "cell_type": "code",
   "execution_count": 270,
   "metadata": {},
   "outputs": [
    {
     "data": {
      "text/plain": [
       "(0.026, 3, 0.0282375, 1, 0)"
      ]
     },
     "execution_count": 270,
     "metadata": {},
     "output_type": "execute_result"
    }
   ],
   "source": [
    "attack_limits(k=1,omega=0.15)"
   ]
  },
  {
   "cell_type": "code",
   "execution_count": 271,
   "metadata": {},
   "outputs": [
    {
     "data": {
      "text/plain": [
       "(0.007, 2, 0.010000000000000002, 1, 0)"
      ]
     },
     "execution_count": 271,
     "metadata": {},
     "output_type": "execute_result"
    }
   ],
   "source": [
    "attack_limits(k=1,omega=0.10)"
   ]
  },
  {
   "cell_type": "code",
   "execution_count": null,
   "metadata": {},
   "outputs": [],
   "source": []
  },
  {
   "cell_type": "code",
   "execution_count": null,
   "metadata": {},
   "outputs": [],
   "source": []
  }
 ],
 "metadata": {
  "kernelspec": {
   "display_name": "Python 3 (ipykernel)",
   "language": "python",
   "name": "python3"
  },
  "language_info": {
   "codemirror_mode": {
    "name": "ipython",
    "version": 3
   },
   "file_extension": ".py",
   "mimetype": "text/x-python",
   "name": "python",
   "nbconvert_exporter": "python",
   "pygments_lexer": "ipython3",
   "version": "3.8.10"
  }
 },
 "nbformat": 4,
 "nbformat_minor": 2
}
