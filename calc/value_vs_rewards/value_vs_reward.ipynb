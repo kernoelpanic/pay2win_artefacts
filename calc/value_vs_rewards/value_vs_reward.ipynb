{
 "cells": [
  {
   "cell_type": "markdown",
   "metadata": {},
   "source": [
    "# Tranfered value VS mining reward comparison \n",
    "\n",
    "Estimate the value in USD transfered in blocks VS value in USD provided as mining reward (fee + block reward)\n",
    "\n",
    "Data sources:\n",
    "* https://www.blockchain.com/charts\n",
    "* https://www.blockchain.com/charts/estimated-transaction-volume?timespan=1year\n",
    "* https://www.blockchain.com/charts/estimated-transaction-volume-usd?timespan=1year\n",
    "* https://www.blockchain.com/charts/miners-revenue?timespan=1year\n",
    "* https://www.blockchain.com/charts/transaction-fees?timespan=1year"
   ]
  },
  {
   "cell_type": "code",
   "execution_count": 2,
   "metadata": {},
   "outputs": [],
   "source": [
    "import pandas as pd\n",
    "pd.set_option('display.precision', 100)\n",
    "import numpy as np"
   ]
  },
  {
   "cell_type": "markdown",
   "metadata": {},
   "source": [
    "## Transaction volume per day in USD\n",
    "> The Estimated Transaction Value in USD value.\n",
    "\n",
    "https://www.blockchain.com/charts/estimated-transaction-volume-usd?timespan=1year"
   ]
  },
  {
   "cell_type": "code",
   "execution_count": 4,
   "metadata": {},
   "outputs": [
    {
     "name": "stdout",
     "output_type": "stream",
     "text": [
      "--2019-10-15 15:38:33--  https://api.blockchain.info/charts/estimated-transaction-volume-usd?timespan=1year&format=csv\n",
      "Resolving api.blockchain.info (api.blockchain.info)... 104.16.55.3, 104.16.54.3\n",
      "Connecting to api.blockchain.info (api.blockchain.info)|104.16.55.3|:443... connected.\n",
      "HTTP request sent, awaiting response... 200 OK\n",
      "Length: unspecified [text/csv]\n",
      "Saving to: ‘estimated-transaction-volume-usd.csv’\n",
      "\n",
      "estimated-transacti     [ <=>                ]  13.66K  --.-KB/s    in 0.001s  \n",
      "\n",
      "2019-10-15 15:38:33 (13.5 MB/s) - ‘estimated-transaction-volume-usd.csv’ saved [13992]\n",
      "\n"
     ]
    }
   ],
   "source": [
    "!wget -O \"estimated-transaction-volume-usd.csv\"  \"https://api.blockchain.info/charts/estimated-transaction-volume-usd?timespan=1year&format=csv\""
   ]
  },
  {
   "cell_type": "code",
   "execution_count": 12,
   "metadata": {},
   "outputs": [
    {
     "name": "stdout",
     "output_type": "stream",
     "text": [
      "365\n"
     ]
    },
    {
     "data": {
      "text/html": [
       "<div>\n",
       "<style scoped>\n",
       "    .dataframe tbody tr th:only-of-type {\n",
       "        vertical-align: middle;\n",
       "    }\n",
       "\n",
       "    .dataframe tbody tr th {\n",
       "        vertical-align: top;\n",
       "    }\n",
       "\n",
       "    .dataframe thead th {\n",
       "        text-align: right;\n",
       "    }\n",
       "</style>\n",
       "<table border=\"1\" class=\"dataframe\">\n",
       "  <thead>\n",
       "    <tr style=\"text-align: right;\">\n",
       "      <th></th>\n",
       "      <th>0</th>\n",
       "      <th>1</th>\n",
       "    </tr>\n",
       "  </thead>\n",
       "  <tbody>\n",
       "    <tr>\n",
       "      <td>0</td>\n",
       "      <td>2018-10-15 00:00:00</td>\n",
       "      <td>1397520263.45377254486083984375000</td>\n",
       "    </tr>\n",
       "    <tr>\n",
       "      <td>1</td>\n",
       "      <td>2018-10-16 00:00:00</td>\n",
       "      <td>903556367.08799004554748535156250</td>\n",
       "    </tr>\n",
       "    <tr>\n",
       "      <td>2</td>\n",
       "      <td>2018-10-17 00:00:00</td>\n",
       "      <td>728506819.17753159999847412109375</td>\n",
       "    </tr>\n",
       "    <tr>\n",
       "      <td>3</td>\n",
       "      <td>2018-10-18 00:00:00</td>\n",
       "      <td>877725432.40643978118896484375000</td>\n",
       "    </tr>\n",
       "    <tr>\n",
       "      <td>4</td>\n",
       "      <td>2018-10-19 00:00:00</td>\n",
       "      <td>839318447.66251254081726074218750</td>\n",
       "    </tr>\n",
       "  </tbody>\n",
       "</table>\n",
       "</div>"
      ],
      "text/plain": [
       "                     0                                   1\n",
       "0  2018-10-15 00:00:00  1397520263.45377254486083984375000\n",
       "1  2018-10-16 00:00:00   903556367.08799004554748535156250\n",
       "2  2018-10-17 00:00:00   728506819.17753159999847412109375\n",
       "3  2018-10-18 00:00:00   877725432.40643978118896484375000\n",
       "4  2018-10-19 00:00:00   839318447.66251254081726074218750"
      ]
     },
     "execution_count": 12,
     "metadata": {},
     "output_type": "execute_result"
    }
   ],
   "source": [
    "df_vol = pd.read_csv('estimated-transaction-volume-usd.csv',header=None)\n",
    "print(len(df_vol))\n",
    "df_vol.head()"
   ]
  },
  {
   "cell_type": "code",
   "execution_count": 13,
   "metadata": {},
   "outputs": [
    {
     "name": "stdout",
     "output_type": "stream",
     "text": [
      "Min:\n",
      "$       223,086,857.01 USD\n",
      "Max:\n",
      "$     4,044,689,274.53 USD\n",
      "Median:\n",
      "$       782,426,488.16 USD\n",
      "Mean:\n",
      "$       941,545,178.25 USD\n"
     ]
    }
   ],
   "source": [
    "min_volume = df_vol[1].min()\n",
    "print('Min:\\n$ {:>20,.2f} USD'.format(min_volume))\n",
    "max_volume = df_vol[1].max()\n",
    "print('Max:\\n$ {:>20,.2f} USD'.format(max_volume))\n",
    "median_volume = df_vol[1].median()\n",
    "print('Median:\\n$ {:>20,.2f} USD'.format(median_volume))\n",
    "mean_volume = df_vol[1].mean()\n",
    "print('Mean:\\n$ {:>20,.2f} USD'.format(mean_volume))"
   ]
  },
  {
   "cell_type": "markdown",
   "metadata": {},
   "source": [
    "## Miner reveneu per day in USD\n",
    "> Total value of coinbase block rewards and transaction fees paid to miners.\n",
    "\n",
    "https://www.blockchain.com/charts/miners-revenue?timespan=1year"
   ]
  },
  {
   "cell_type": "code",
   "execution_count": 26,
   "metadata": {},
   "outputs": [
    {
     "name": "stdout",
     "output_type": "stream",
     "text": [
      "--2019-10-15 16:14:56--  https://api.blockchain.info/charts/miners-revenue?timespan=1year&format=csv\n",
      "Resolving api.blockchain.info (api.blockchain.info)... 104.16.54.3, 104.16.55.3\n",
      "Connecting to api.blockchain.info (api.blockchain.info)|104.16.54.3|:443... connected.\n",
      "HTTP request sent, awaiting response... 200 OK\n",
      "Length: unspecified [text/csv]\n",
      "Saving to: ‘miners-revenue.csv’\n",
      "\n",
      "miners-revenue.csv      [ <=>                ]  13.66K  --.-KB/s    in 0.002s  \n",
      "\n",
      "2019-10-15 16:14:56 (8.23 MB/s) - ‘miners-revenue.csv’ saved [13985]\n",
      "\n"
     ]
    }
   ],
   "source": [
    "!wget -O \"miners-revenue.csv\" \"https://api.blockchain.info/charts/miners-revenue?timespan=1year&format=csv\""
   ]
  },
  {
   "cell_type": "code",
   "execution_count": 27,
   "metadata": {},
   "outputs": [
    {
     "name": "stdout",
     "output_type": "stream",
     "text": [
      "365\n"
     ]
    },
    {
     "data": {
      "text/html": [
       "<div>\n",
       "<style scoped>\n",
       "    .dataframe tbody tr th:only-of-type {\n",
       "        vertical-align: middle;\n",
       "    }\n",
       "\n",
       "    .dataframe tbody tr th {\n",
       "        vertical-align: top;\n",
       "    }\n",
       "\n",
       "    .dataframe thead th {\n",
       "        text-align: right;\n",
       "    }\n",
       "</style>\n",
       "<table border=\"1\" class=\"dataframe\">\n",
       "  <thead>\n",
       "    <tr style=\"text-align: right;\">\n",
       "      <th></th>\n",
       "      <th>0</th>\n",
       "      <th>1</th>\n",
       "    </tr>\n",
       "  </thead>\n",
       "  <tbody>\n",
       "    <tr>\n",
       "      <td>0</td>\n",
       "      <td>2018-10-15 00:00:00</td>\n",
       "      <td>13215486.35126505978405475616455078125</td>\n",
       "    </tr>\n",
       "    <tr>\n",
       "      <td>1</td>\n",
       "      <td>2018-10-16 00:00:00</td>\n",
       "      <td>11259236.32218853943049907684326171875</td>\n",
       "    </tr>\n",
       "    <tr>\n",
       "      <td>2</td>\n",
       "      <td>2018-10-17 00:00:00</td>\n",
       "      <td>11502916.70056558959186077117919921875</td>\n",
       "    </tr>\n",
       "    <tr>\n",
       "      <td>3</td>\n",
       "      <td>2018-10-18 00:00:00</td>\n",
       "      <td>11448484.29383384063839912414550781250</td>\n",
       "    </tr>\n",
       "    <tr>\n",
       "      <td>4</td>\n",
       "      <td>2018-10-19 00:00:00</td>\n",
       "      <td>11629773.63004752434790134429931640625</td>\n",
       "    </tr>\n",
       "  </tbody>\n",
       "</table>\n",
       "</div>"
      ],
      "text/plain": [
       "                     0                                       1\n",
       "0  2018-10-15 00:00:00  13215486.35126505978405475616455078125\n",
       "1  2018-10-16 00:00:00  11259236.32218853943049907684326171875\n",
       "2  2018-10-17 00:00:00  11502916.70056558959186077117919921875\n",
       "3  2018-10-18 00:00:00  11448484.29383384063839912414550781250\n",
       "4  2018-10-19 00:00:00  11629773.63004752434790134429931640625"
      ]
     },
     "execution_count": 27,
     "metadata": {},
     "output_type": "execute_result"
    }
   ],
   "source": [
    "df_rev = pd.read_csv('miners-revenue.csv',header=None)\n",
    "print(len(df_rev))\n",
    "df_rev.head()"
   ]
  },
  {
   "cell_type": "code",
   "execution_count": 28,
   "metadata": {
    "scrolled": true
   },
   "outputs": [
    {
     "name": "stdout",
     "output_type": "stream",
     "text": [
      "Min:\n",
      "$         4,750,978.91 USD\n",
      "Max:\n",
      "$        28,500,796.50 USD\n",
      "Median:\n",
      "$        11,207,341.46 USD\n",
      "Mean:\n",
      "$        12,921,474.08 USD\n"
     ]
    }
   ],
   "source": [
    "min_revenue = df_rev[1].min()\n",
    "print('Min:\\n$ {:>20,.2f} USD'.format(min_revenue))\n",
    "max_revenue = df_rev[1].max()\n",
    "print('Max:\\n$ {:>20,.2f} USD'.format(max_revenue))\n",
    "median_revenue = df_rev[1].median()\n",
    "print('Median:\\n$ {:>20,.2f} USD'.format(median_revenue))\n",
    "mean_revenue = df_rev[1].mean()\n",
    "print('Mean:\\n$ {:>20,.2f} USD'.format(mean_revenue))"
   ]
  },
  {
   "cell_type": "markdown",
   "metadata": {},
   "source": [
    "## Transaction feeds per day in USD\n",
    "> The total value of all transaction fees paid to miners (not including the coinbase value of block rewards).\n",
    "\n",
    "https://www.blockchain.com/charts/transaction-fees-usd?timespan=1year"
   ]
  },
  {
   "cell_type": "code",
   "execution_count": 23,
   "metadata": {},
   "outputs": [
    {
     "name": "stdout",
     "output_type": "stream",
     "text": [
      "--2019-10-15 16:13:50--  https://api.blockchain.info/charts/transaction-fees-usd?timespan=1year&format=csv\n",
      "Resolving api.blockchain.info (api.blockchain.info)... 104.16.54.3, 104.16.55.3\n",
      "Connecting to api.blockchain.info (api.blockchain.info)|104.16.54.3|:443... connected.\n",
      "HTTP request sent, awaiting response... 200 OK\n",
      "Length: unspecified [text/csv]\n",
      "Saving to: ‘transaction-fees-usd.csv’\n",
      "\n",
      "transaction-fees-us     [ <=>                ]  13.68K  --.-KB/s    in 0.001s  \n",
      "\n",
      "2019-10-15 16:13:50 (12.6 MB/s) - ‘transaction-fees-usd.csv’ saved [14006]\n",
      "\n"
     ]
    }
   ],
   "source": [
    "!wget -O \"transaction-fees-usd.csv\"  \"https://api.blockchain.info/charts/transaction-fees-usd?timespan=1year&format=csv\""
   ]
  },
  {
   "cell_type": "code",
   "execution_count": 30,
   "metadata": {},
   "outputs": [
    {
     "name": "stdout",
     "output_type": "stream",
     "text": [
      "365\n"
     ]
    },
    {
     "data": {
      "text/html": [
       "<div>\n",
       "<style scoped>\n",
       "    .dataframe tbody tr th:only-of-type {\n",
       "        vertical-align: middle;\n",
       "    }\n",
       "\n",
       "    .dataframe tbody tr th {\n",
       "        vertical-align: top;\n",
       "    }\n",
       "\n",
       "    .dataframe thead th {\n",
       "        text-align: right;\n",
       "    }\n",
       "</style>\n",
       "<table border=\"1\" class=\"dataframe\">\n",
       "  <thead>\n",
       "    <tr style=\"text-align: right;\">\n",
       "      <th></th>\n",
       "      <th>0</th>\n",
       "      <th>1</th>\n",
       "    </tr>\n",
       "  </thead>\n",
       "  <tbody>\n",
       "    <tr>\n",
       "      <td>0</td>\n",
       "      <td>2018-10-15 00:00:00</td>\n",
       "      <td>149028.726265063916798681020736694335937500</td>\n",
       "    </tr>\n",
       "    <tr>\n",
       "      <td>1</td>\n",
       "      <td>2018-10-16 00:00:00</td>\n",
       "      <td>127442.884688540390925481915473937988281250</td>\n",
       "    </tr>\n",
       "    <tr>\n",
       "      <td>2</td>\n",
       "      <td>2018-10-17 00:00:00</td>\n",
       "      <td>124340.335180975103867240250110626220703125</td>\n",
       "    </tr>\n",
       "    <tr>\n",
       "      <td>3</td>\n",
       "      <td>2018-10-18 00:00:00</td>\n",
       "      <td>118613.966910766539513133466243743896484375</td>\n",
       "    </tr>\n",
       "    <tr>\n",
       "      <td>4</td>\n",
       "      <td>2018-10-19 00:00:00</td>\n",
       "      <td>114560.234214190510101616382598876953125000</td>\n",
       "    </tr>\n",
       "  </tbody>\n",
       "</table>\n",
       "</div>"
      ],
      "text/plain": [
       "                     0                                            1\n",
       "0  2018-10-15 00:00:00  149028.726265063916798681020736694335937500\n",
       "1  2018-10-16 00:00:00  127442.884688540390925481915473937988281250\n",
       "2  2018-10-17 00:00:00  124340.335180975103867240250110626220703125\n",
       "3  2018-10-18 00:00:00  118613.966910766539513133466243743896484375\n",
       "4  2018-10-19 00:00:00  114560.234214190510101616382598876953125000"
      ]
     },
     "execution_count": 30,
     "metadata": {},
     "output_type": "execute_result"
    }
   ],
   "source": [
    "df_rev = pd.read_csv('transaction-fees-usd.csv',header=None)\n",
    "print(len(df_rev))\n",
    "df_rev.head()"
   ]
  },
  {
   "cell_type": "code",
   "execution_count": 31,
   "metadata": {},
   "outputs": [
    {
     "name": "stdout",
     "output_type": "stream",
     "text": [
      "Min:\n",
      "฿      42,133.14971120 BTC\n",
      "Max:\n",
      "฿   2,368,023.05355289 BTC\n",
      "Median:\n",
      "฿     227,726.85373094 BTC\n",
      "Mean:\n",
      "฿     403,648.86033257 BTC\n"
     ]
    }
   ],
   "source": [
    "min_fee = df_rev[1].min()\n",
    "print('Min:\\n฿ {:>20,.8f} BTC'.format(min_fee))\n",
    "max_fee = df_rev[1].max()\n",
    "print('Max:\\n฿ {:>20,.8f} BTC'.format(max_fee))\n",
    "median_fee = df_rev[1].median()\n",
    "print('Median:\\n฿ {:>20,.8f} BTC'.format(median_fee))\n",
    "mean_fee = df_rev[1].mean()\n",
    "print('Mean:\\n฿ {:>20,.8f} BTC'.format(mean_fee))"
   ]
  },
  {
   "cell_type": "markdown",
   "metadata": {},
   "source": [
    "## Comparision of rewards (USD) and vlaue tranfered (USD) per day \n"
   ]
  },
  {
   "cell_type": "code",
   "execution_count": 34,
   "metadata": {
    "scrolled": true
   },
   "outputs": [
    {
     "data": {
      "text/plain": [
       "72.86670021635685"
      ]
     },
     "execution_count": 34,
     "metadata": {},
     "output_type": "execute_result"
    }
   ],
   "source": [
    "mean_volume / mean_revenue"
   ]
  },
  {
   "cell_type": "code",
   "execution_count": 35,
   "metadata": {},
   "outputs": [
    {
     "data": {
      "text/plain": [
       "69.8137458396992"
      ]
     },
     "execution_count": 35,
     "metadata": {},
     "output_type": "execute_result"
    }
   ],
   "source": [
    "median_volume / median_revenue"
   ]
  },
  {
   "cell_type": "code",
   "execution_count": 36,
   "metadata": {},
   "outputs": [
    {
     "data": {
      "text/plain": [
       "2332.5847556669914"
      ]
     },
     "execution_count": 36,
     "metadata": {},
     "output_type": "execute_result"
    }
   ],
   "source": [
    "mean_volume / mean_fee"
   ]
  },
  {
   "cell_type": "code",
   "execution_count": 37,
   "metadata": {},
   "outputs": [
    {
     "data": {
      "text/plain": [
       "3435.811259609016"
      ]
     },
     "execution_count": 37,
     "metadata": {},
     "output_type": "execute_result"
    }
   ],
   "source": [
    "median_volume / median_fee"
   ]
  },
  {
   "cell_type": "markdown",
   "metadata": {},
   "source": [
    "## Transaction volume per day in BTC\n",
    "> The total estimated value of transactions on the Bitcoin blockchain (does not include coins returned to sender as change).\n",
    "\n",
    "https://www.blockchain.com/charts/estimated-transaction-volume?timespan=1year"
   ]
  },
  {
   "cell_type": "code",
   "execution_count": 2,
   "metadata": {},
   "outputs": [
    {
     "name": "stdout",
     "output_type": "stream",
     "text": [
      "--2019-10-15 15:33:07--  https://api.blockchain.info/charts/estimated-transaction-volume?timespan=1year&format=csv\n",
      "Resolving api.blockchain.info (api.blockchain.info)... 104.16.55.3, 104.16.54.3\n",
      "Connecting to api.blockchain.info (api.blockchain.info)|104.16.55.3|:443... connected.\n",
      "HTTP request sent, awaiting response... 200 OK\n",
      "Length: unspecified [text/csv]\n",
      "Saving to: ‘estimated-transaction-volume.csv’\n",
      "\n",
      "estimated-transacti     [ <=>                ]  13.57K  --.-KB/s    in 0.001s  \n",
      "\n",
      "2019-10-15 15:33:07 (15.3 MB/s) - ‘estimated-transaction-volume.csv’ saved [13900]\n",
      "\n"
     ]
    }
   ],
   "source": [
    "!wget -O \"estimated-transaction-volume.csv\"  \"https://api.blockchain.info/charts/estimated-transaction-volume?timespan=1year&format=csv\""
   ]
  },
  {
   "cell_type": "code",
   "execution_count": 131,
   "metadata": {},
   "outputs": [
    {
     "name": "stdout",
     "output_type": "stream",
     "text": [
      "365\n"
     ]
    },
    {
     "data": {
      "text/html": [
       "<div>\n",
       "<style scoped>\n",
       "    .dataframe tbody tr th:only-of-type {\n",
       "        vertical-align: middle;\n",
       "    }\n",
       "\n",
       "    .dataframe tbody tr th {\n",
       "        vertical-align: top;\n",
       "    }\n",
       "\n",
       "    .dataframe thead th {\n",
       "        text-align: right;\n",
       "    }\n",
       "</style>\n",
       "<table border=\"1\" class=\"dataframe\">\n",
       "  <thead>\n",
       "    <tr style=\"text-align: right;\">\n",
       "      <th></th>\n",
       "      <th>0</th>\n",
       "      <th>1</th>\n",
       "    </tr>\n",
       "  </thead>\n",
       "  <tbody>\n",
       "    <tr>\n",
       "      <th>0</th>\n",
       "      <td>2017-08-18 00:00:00</td>\n",
       "      <td>275331.80887692997930571436882019042968750</td>\n",
       "    </tr>\n",
       "    <tr>\n",
       "      <th>1</th>\n",
       "      <td>2017-08-19 00:00:00</td>\n",
       "      <td>313472.69392997998511418700218200683593750</td>\n",
       "    </tr>\n",
       "    <tr>\n",
       "      <th>2</th>\n",
       "      <td>2017-08-20 00:00:00</td>\n",
       "      <td>181583.87597230999381281435489654541015625</td>\n",
       "    </tr>\n",
       "    <tr>\n",
       "      <th>3</th>\n",
       "      <td>2017-08-21 00:00:00</td>\n",
       "      <td>202649.23936119000427424907684326171875000</td>\n",
       "    </tr>\n",
       "    <tr>\n",
       "      <th>4</th>\n",
       "      <td>2017-08-22 00:00:00</td>\n",
       "      <td>215933.01456173000042326748371124267578125</td>\n",
       "    </tr>\n",
       "  </tbody>\n",
       "</table>\n",
       "</div>"
      ],
      "text/plain": [
       "                     0                                           1\n",
       "0  2017-08-18 00:00:00  275331.80887692997930571436882019042968750\n",
       "1  2017-08-19 00:00:00  313472.69392997998511418700218200683593750\n",
       "2  2017-08-20 00:00:00  181583.87597230999381281435489654541015625\n",
       "3  2017-08-21 00:00:00  202649.23936119000427424907684326171875000\n",
       "4  2017-08-22 00:00:00  215933.01456173000042326748371124267578125"
      ]
     },
     "execution_count": 131,
     "metadata": {},
     "output_type": "execute_result"
    }
   ],
   "source": [
    "df_vol = pd.read_csv('estimated-transaction-volume.csv',header=None)\n",
    "print(len(df_vol))\n",
    "df_vol.head()"
   ]
  },
  {
   "cell_type": "code",
   "execution_count": 132,
   "metadata": {
    "scrolled": true
   },
   "outputs": [
    {
     "name": "stdout",
     "output_type": "stream",
     "text": [
      "Min:\n",
      "฿      52,417.41808258 BTC\n",
      "Max:\n",
      "฿     407,836.91191003 BTC\n",
      "Median:\n",
      "฿     156,169.96115303 BTC\n",
      "Mean:\n",
      "฿     173,139.73753751 BTC\n"
     ]
    }
   ],
   "source": [
    "min_revenue = df_vol[1].min()\n",
    "print('Min:\\n฿ {:>20,.8f} BTC'.format(min_revenue))\n",
    "max_revenue = df_vol[1].max()\n",
    "print('Max:\\n฿ {:>20,.8f} BTC'.format(max_revenue))\n",
    "median_revenue = df_vol[1].median()\n",
    "print('Median:\\n฿ {:>20,.8f} BTC'.format(median_revenue))\n",
    "mean_revenue = df_vol[1].mean()\n",
    "print('Mean:\\n฿ {:>20,.8f} BTC'.format(mean_revenue))"
   ]
  },
  {
   "cell_type": "markdown",
   "metadata": {},
   "source": [
    "## Transaction fees per day in BTC\n",
    "> The total value of all transaction fees paid to miners (not including the coinbase value of block rewards).\n",
    "\n",
    "https://www.blockchain.com/charts/transaction-fees?timespan=1year"
   ]
  },
  {
   "cell_type": "code",
   "execution_count": 6,
   "metadata": {},
   "outputs": [
    {
     "name": "stdout",
     "output_type": "stream",
     "text": [
      "--2019-10-15 15:41:24--  https://api.blockchain.info/charts/transaction-fees?timespan=1year&format=csv\n",
      "Resolving api.blockchain.info (api.blockchain.info)... 104.16.54.3, 104.16.55.3\n",
      "Connecting to api.blockchain.info (api.blockchain.info)|104.16.54.3|:443... connected.\n",
      "HTTP request sent, awaiting response... 200 OK\n",
      "Length: unspecified [text/csv]\n",
      "Saving to: ‘transaction-fees.csv’\n",
      "\n",
      "transaction-fees.cs     [ <=>                ]  13.28K  --.-KB/s    in 0.001s  \n",
      "\n",
      "2019-10-15 15:41:24 (14.0 MB/s) - ‘transaction-fees.csv’ saved [13597]\n",
      "\n"
     ]
    }
   ],
   "source": [
    "!wget -O \"transaction-fees.csv\" \"https://api.blockchain.info/charts/transaction-fees?timespan=1year&format=csv\""
   ]
  },
  {
   "cell_type": "code",
   "execution_count": 3,
   "metadata": {},
   "outputs": [
    {
     "name": "stdout",
     "output_type": "stream",
     "text": [
      "365\n"
     ]
    },
    {
     "data": {
      "text/html": [
       "<div>\n",
       "<style scoped>\n",
       "    .dataframe tbody tr th:only-of-type {\n",
       "        vertical-align: middle;\n",
       "    }\n",
       "\n",
       "    .dataframe tbody tr th {\n",
       "        vertical-align: top;\n",
       "    }\n",
       "\n",
       "    .dataframe thead th {\n",
       "        text-align: right;\n",
       "    }\n",
       "</style>\n",
       "<table border=\"1\" class=\"dataframe\">\n",
       "  <thead>\n",
       "    <tr style=\"text-align: right;\">\n",
       "      <th></th>\n",
       "      <th>0</th>\n",
       "      <th>1</th>\n",
       "    </tr>\n",
       "  </thead>\n",
       "  <tbody>\n",
       "    <tr>\n",
       "      <td>0</td>\n",
       "      <td>2018-10-15 00:00:00</td>\n",
       "      <td>23.0960203100000036613437259802594780921936035...</td>\n",
       "    </tr>\n",
       "    <tr>\n",
       "      <td>1</td>\n",
       "      <td>2018-10-16 00:00:00</td>\n",
       "      <td>19.3194267500000016468675312353298068046569824...</td>\n",
       "    </tr>\n",
       "    <tr>\n",
       "      <td>2</td>\n",
       "      <td>2018-10-17 00:00:00</td>\n",
       "      <td>18.8500802999999876874426263384521007537841796...</td>\n",
       "    </tr>\n",
       "    <tr>\n",
       "      <td>3</td>\n",
       "      <td>2018-10-18 00:00:00</td>\n",
       "      <td>18.0592616700000014873239706503227353096008300...</td>\n",
       "    </tr>\n",
       "    <tr>\n",
       "      <td>4</td>\n",
       "      <td>2018-10-19 00:00:00</td>\n",
       "      <td>17.6587622599999995998132362728938460350036621...</td>\n",
       "    </tr>\n",
       "  </tbody>\n",
       "</table>\n",
       "</div>"
      ],
      "text/plain": [
       "                     0                                                  1\n",
       "0  2018-10-15 00:00:00  23.0960203100000036613437259802594780921936035...\n",
       "1  2018-10-16 00:00:00  19.3194267500000016468675312353298068046569824...\n",
       "2  2018-10-17 00:00:00  18.8500802999999876874426263384521007537841796...\n",
       "3  2018-10-18 00:00:00  18.0592616700000014873239706503227353096008300...\n",
       "4  2018-10-19 00:00:00  17.6587622599999995998132362728938460350036621..."
      ]
     },
     "execution_count": 3,
     "metadata": {},
     "output_type": "execute_result"
    }
   ],
   "source": [
    "df_rev = pd.read_csv('transaction-fees.csv',header=None)\n",
    "print(len(df_rev))\n",
    "df_rev.head()"
   ]
  },
  {
   "cell_type": "code",
   "execution_count": 4,
   "metadata": {},
   "outputs": [
    {
     "name": "stdout",
     "output_type": "stream",
     "text": [
      "Min:\n",
      "฿          11.22870449 BTC\n",
      "Max:\n",
      "฿         228.51579452 BTC\n",
      "Median:\n",
      "฿          34.64137449 BTC\n",
      "Mean:\n",
      "฿          53.60362910 BTC\n"
     ]
    }
   ],
   "source": [
    "min_revenue = df_rev[1].min()\n",
    "print('Min:\\n฿ {:>20,.8f} BTC'.format(min_revenue))\n",
    "max_revenue = df_rev[1].max()\n",
    "print('Max:\\n฿ {:>20,.8f} BTC'.format(max_revenue))\n",
    "median_revenue = df_rev[1].median()\n",
    "print('Median:\\n฿ {:>20,.8f} BTC'.format(median_revenue))\n",
    "mean_revenue = df_rev[1].mean()\n",
    "print('Mean:\\n฿ {:>20,.8f} BTC'.format(mean_revenue))"
   ]
  },
  {
   "cell_type": "code",
   "execution_count": 6,
   "metadata": {},
   "outputs": [
    {
     "data": {
      "text/plain": [
       "600"
      ]
     },
     "execution_count": 6,
     "metadata": {},
     "output_type": "execute_result"
    }
   ],
   "source": [
    "mean_block_interval = 60*10\n",
    "mean_block_interval"
   ]
  },
  {
   "cell_type": "code",
   "execution_count": 7,
   "metadata": {},
   "outputs": [
    {
     "data": {
      "text/plain": [
       "86400"
      ]
     },
     "execution_count": 7,
     "metadata": {},
     "output_type": "execute_result"
    }
   ],
   "source": [
    "seconds_per_day = 60*60*24\n",
    "seconds_per_day"
   ]
  },
  {
   "cell_type": "code",
   "execution_count": 8,
   "metadata": {},
   "outputs": [
    {
     "data": {
      "text/plain": [
       "144.0"
      ]
     },
     "execution_count": 8,
     "metadata": {},
     "output_type": "execute_result"
    }
   ],
   "source": [
    "mean_blocks_per_day = seconds_per_day / mean_block_interval\n",
    "mean_blocks_per_day"
   ]
  },
  {
   "cell_type": "code",
   "execution_count": 10,
   "metadata": {},
   "outputs": [
    {
     "data": {
      "text/plain": [
       "53.60362909619178"
      ]
     },
     "execution_count": 10,
     "metadata": {},
     "output_type": "execute_result"
    }
   ],
   "source": [
    "mean_revenue"
   ]
  },
  {
   "cell_type": "code",
   "execution_count": 15,
   "metadata": {},
   "outputs": [
    {
     "name": "stdout",
     "output_type": "stream",
     "text": [
      "Mean fee per block (derived by mean fee per day over the last year):\n",
      "฿           0.37224742 BTC\n"
     ]
    }
   ],
   "source": [
    "mean_fee_per_block = mean_revenue / mean_blocks_per_day \n",
    "print('Mean fee per block (derived by mean fee per day over the last year):\\n฿ {:>20,.8f} BTC'.format(mean_fee_per_block))"
   ]
  },
  {
   "cell_type": "code",
   "execution_count": 16,
   "metadata": {},
   "outputs": [
    {
     "name": "stdout",
     "output_type": "stream",
     "text": [
      "Max fee per block (derived by max fee per day over the last year):\n",
      "฿           1.58691524 BTC\n"
     ]
    }
   ],
   "source": [
    "max_fee_per_block = max_revenue / mean_blocks_per_day \n",
    "print('Max fee per block (derived by max fee per day over the last year):\\n฿ {:>20,.8f} BTC'.format(max_fee_per_block))"
   ]
  },
  {
   "cell_type": "markdown",
   "metadata": {
    "collapsed": true
   },
   "source": [
    "## Estimated rewards per day in BTC"
   ]
  },
  {
   "cell_type": "code",
   "execution_count": 59,
   "metadata": {},
   "outputs": [
    {
     "name": "stdout",
     "output_type": "stream",
     "text": [
      "current block reward:\n",
      "฿          12.50000000 BTC\n"
     ]
    }
   ],
   "source": [
    "current_block_reward_BTC = 12.5*10**8\n",
    "print('current block reward:\\n฿ {:>20,.8f} BTC'.format(current_block_reward_BTC*10**(-8)))"
   ]
  },
  {
   "cell_type": "code",
   "execution_count": 60,
   "metadata": {
    "scrolled": true
   },
   "outputs": [
    {
     "name": "stdout",
     "output_type": "stream",
     "text": [
      "mean current block reward per day:\n",
      "฿       1,800.00000000 BTC\n"
     ]
    }
   ],
   "source": [
    "mean_block_reward_per_day = mean_blocks_per_day * current_block_reward_BTC\n",
    "print('mean current block reward per day:\\n฿ {:>20,.8f} BTC'.format(mean_block_reward_per_day*10**(-8)))"
   ]
  },
  {
   "cell_type": "code",
   "execution_count": null,
   "metadata": {},
   "outputs": [],
   "source": []
  }
 ],
 "metadata": {
  "kernelspec": {
   "display_name": "Python 3",
   "language": "python",
   "name": "python3"
  },
  "language_info": {
   "codemirror_mode": {
    "name": "ipython",
    "version": 3
   },
   "file_extension": ".py",
   "mimetype": "text/x-python",
   "name": "python",
   "nbconvert_exporter": "python",
   "pygments_lexer": "ipython3",
   "version": "3.7.1"
  }
 },
 "nbformat": 4,
 "nbformat_minor": 2
}
