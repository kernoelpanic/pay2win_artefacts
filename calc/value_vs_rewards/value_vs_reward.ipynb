{
 "cells": [
  {
   "cell_type": "markdown",
   "metadata": {},
   "source": [
    "# Tranfered value VS mining reward comparison \n",
    "\n",
    "Estimate the value in USD transfered in blocks VS value in USD provided as mining reward (fee + block reward)\n",
    "\n",
    "Data sources:\n",
    "* https://www.blockchain.com/charts\n",
    "* https://www.blockchain.com/charts/estimated-transaction-volume?timespan=1year\n",
    "* https://www.blockchain.com/charts/estimated-transaction-volume-usd?timespan=1year\n",
    "* https://www.blockchain.com/charts/miners-revenue?timespan=1year\n",
    "* https://www.blockchain.com/charts/transaction-fees?timespan=1year"
   ]
  },
  {
   "cell_type": "code",
   "execution_count": 74,
   "metadata": {},
   "outputs": [],
   "source": [
    "import pandas as pd\n",
    "pd.set_option('display.precision', 100)\n",
    "import numpy as np\n",
    "import scipy.stats\n",
    "import numpy as np\n",
    "import matplotlib.pyplot as plt"
   ]
  },
  {
   "cell_type": "markdown",
   "metadata": {},
   "source": [
    "## Transaction volume per day in USD\n",
    "> The Estimated Transaction Value in USD value.\n",
    "\n",
    "https://www.blockchain.com/charts/estimated-transaction-volume-usd?timespan=1year"
   ]
  },
  {
   "cell_type": "code",
   "execution_count": 4,
   "metadata": {},
   "outputs": [
    {
     "name": "stdout",
     "output_type": "stream",
     "text": [
      "--2019-10-15 15:38:33--  https://api.blockchain.info/charts/estimated-transaction-volume-usd?timespan=1year&format=csv\n",
      "Resolving api.blockchain.info (api.blockchain.info)... 104.16.55.3, 104.16.54.3\n",
      "Connecting to api.blockchain.info (api.blockchain.info)|104.16.55.3|:443... connected.\n",
      "HTTP request sent, awaiting response... 200 OK\n",
      "Length: unspecified [text/csv]\n",
      "Saving to: ‘estimated-transaction-volume-usd.csv’\n",
      "\n",
      "estimated-transacti     [ <=>                ]  13.66K  --.-KB/s    in 0.001s  \n",
      "\n",
      "2019-10-15 15:38:33 (13.5 MB/s) - ‘estimated-transaction-volume-usd.csv’ saved [13992]\n",
      "\n"
     ]
    }
   ],
   "source": [
    "!wget -O \"estimated-transaction-volume-usd.csv\"  \"https://api.blockchain.info/charts/estimated-transaction-volume-usd?timespan=1year&format=csv\""
   ]
  },
  {
   "cell_type": "code",
   "execution_count": 12,
   "metadata": {},
   "outputs": [
    {
     "name": "stdout",
     "output_type": "stream",
     "text": [
      "365\n"
     ]
    },
    {
     "data": {
      "text/html": [
       "<div>\n",
       "<style scoped>\n",
       "    .dataframe tbody tr th:only-of-type {\n",
       "        vertical-align: middle;\n",
       "    }\n",
       "\n",
       "    .dataframe tbody tr th {\n",
       "        vertical-align: top;\n",
       "    }\n",
       "\n",
       "    .dataframe thead th {\n",
       "        text-align: right;\n",
       "    }\n",
       "</style>\n",
       "<table border=\"1\" class=\"dataframe\">\n",
       "  <thead>\n",
       "    <tr style=\"text-align: right;\">\n",
       "      <th></th>\n",
       "      <th>0</th>\n",
       "      <th>1</th>\n",
       "    </tr>\n",
       "  </thead>\n",
       "  <tbody>\n",
       "    <tr>\n",
       "      <td>0</td>\n",
       "      <td>2018-10-15 00:00:00</td>\n",
       "      <td>1397520263.45377254486083984375000</td>\n",
       "    </tr>\n",
       "    <tr>\n",
       "      <td>1</td>\n",
       "      <td>2018-10-16 00:00:00</td>\n",
       "      <td>903556367.08799004554748535156250</td>\n",
       "    </tr>\n",
       "    <tr>\n",
       "      <td>2</td>\n",
       "      <td>2018-10-17 00:00:00</td>\n",
       "      <td>728506819.17753159999847412109375</td>\n",
       "    </tr>\n",
       "    <tr>\n",
       "      <td>3</td>\n",
       "      <td>2018-10-18 00:00:00</td>\n",
       "      <td>877725432.40643978118896484375000</td>\n",
       "    </tr>\n",
       "    <tr>\n",
       "      <td>4</td>\n",
       "      <td>2018-10-19 00:00:00</td>\n",
       "      <td>839318447.66251254081726074218750</td>\n",
       "    </tr>\n",
       "  </tbody>\n",
       "</table>\n",
       "</div>"
      ],
      "text/plain": [
       "                     0                                   1\n",
       "0  2018-10-15 00:00:00  1397520263.45377254486083984375000\n",
       "1  2018-10-16 00:00:00   903556367.08799004554748535156250\n",
       "2  2018-10-17 00:00:00   728506819.17753159999847412109375\n",
       "3  2018-10-18 00:00:00   877725432.40643978118896484375000\n",
       "4  2018-10-19 00:00:00   839318447.66251254081726074218750"
      ]
     },
     "execution_count": 12,
     "metadata": {},
     "output_type": "execute_result"
    }
   ],
   "source": [
    "df_vol = pd.read_csv('estimated-transaction-volume-usd.csv',header=None)\n",
    "print(len(df_vol))\n",
    "df_vol.head()"
   ]
  },
  {
   "cell_type": "code",
   "execution_count": 13,
   "metadata": {},
   "outputs": [
    {
     "name": "stdout",
     "output_type": "stream",
     "text": [
      "Min:\n",
      "$       223,086,857.01 USD\n",
      "Max:\n",
      "$     4,044,689,274.53 USD\n",
      "Median:\n",
      "$       782,426,488.16 USD\n",
      "Mean:\n",
      "$       941,545,178.25 USD\n"
     ]
    }
   ],
   "source": [
    "min_volume = df_vol[1].min()\n",
    "print('Min:\\n$ {:>20,.2f} USD'.format(min_volume))\n",
    "max_volume = df_vol[1].max()\n",
    "print('Max:\\n$ {:>20,.2f} USD'.format(max_volume))\n",
    "median_volume = df_vol[1].median()\n",
    "print('Median:\\n$ {:>20,.2f} USD'.format(median_volume))\n",
    "mean_volume = df_vol[1].mean()\n",
    "print('Mean:\\n$ {:>20,.2f} USD'.format(mean_volume))"
   ]
  },
  {
   "cell_type": "markdown",
   "metadata": {},
   "source": [
    "## Miner reveneu per day in USD\n",
    "> Total value of coinbase block rewards and transaction fees paid to miners.\n",
    "\n",
    "https://www.blockchain.com/charts/miners-revenue?timespan=1year"
   ]
  },
  {
   "cell_type": "code",
   "execution_count": 26,
   "metadata": {},
   "outputs": [
    {
     "name": "stdout",
     "output_type": "stream",
     "text": [
      "--2019-10-15 16:14:56--  https://api.blockchain.info/charts/miners-revenue?timespan=1year&format=csv\n",
      "Resolving api.blockchain.info (api.blockchain.info)... 104.16.54.3, 104.16.55.3\n",
      "Connecting to api.blockchain.info (api.blockchain.info)|104.16.54.3|:443... connected.\n",
      "HTTP request sent, awaiting response... 200 OK\n",
      "Length: unspecified [text/csv]\n",
      "Saving to: ‘miners-revenue.csv’\n",
      "\n",
      "miners-revenue.csv      [ <=>                ]  13.66K  --.-KB/s    in 0.002s  \n",
      "\n",
      "2019-10-15 16:14:56 (8.23 MB/s) - ‘miners-revenue.csv’ saved [13985]\n",
      "\n"
     ]
    }
   ],
   "source": [
    "!wget -O \"miners-revenue.csv\" \"https://api.blockchain.info/charts/miners-revenue?timespan=1year&format=csv\""
   ]
  },
  {
   "cell_type": "code",
   "execution_count": 27,
   "metadata": {},
   "outputs": [
    {
     "name": "stdout",
     "output_type": "stream",
     "text": [
      "365\n"
     ]
    },
    {
     "data": {
      "text/html": [
       "<div>\n",
       "<style scoped>\n",
       "    .dataframe tbody tr th:only-of-type {\n",
       "        vertical-align: middle;\n",
       "    }\n",
       "\n",
       "    .dataframe tbody tr th {\n",
       "        vertical-align: top;\n",
       "    }\n",
       "\n",
       "    .dataframe thead th {\n",
       "        text-align: right;\n",
       "    }\n",
       "</style>\n",
       "<table border=\"1\" class=\"dataframe\">\n",
       "  <thead>\n",
       "    <tr style=\"text-align: right;\">\n",
       "      <th></th>\n",
       "      <th>0</th>\n",
       "      <th>1</th>\n",
       "    </tr>\n",
       "  </thead>\n",
       "  <tbody>\n",
       "    <tr>\n",
       "      <td>0</td>\n",
       "      <td>2018-10-15 00:00:00</td>\n",
       "      <td>13215486.35126505978405475616455078125</td>\n",
       "    </tr>\n",
       "    <tr>\n",
       "      <td>1</td>\n",
       "      <td>2018-10-16 00:00:00</td>\n",
       "      <td>11259236.32218853943049907684326171875</td>\n",
       "    </tr>\n",
       "    <tr>\n",
       "      <td>2</td>\n",
       "      <td>2018-10-17 00:00:00</td>\n",
       "      <td>11502916.70056558959186077117919921875</td>\n",
       "    </tr>\n",
       "    <tr>\n",
       "      <td>3</td>\n",
       "      <td>2018-10-18 00:00:00</td>\n",
       "      <td>11448484.29383384063839912414550781250</td>\n",
       "    </tr>\n",
       "    <tr>\n",
       "      <td>4</td>\n",
       "      <td>2018-10-19 00:00:00</td>\n",
       "      <td>11629773.63004752434790134429931640625</td>\n",
       "    </tr>\n",
       "  </tbody>\n",
       "</table>\n",
       "</div>"
      ],
      "text/plain": [
       "                     0                                       1\n",
       "0  2018-10-15 00:00:00  13215486.35126505978405475616455078125\n",
       "1  2018-10-16 00:00:00  11259236.32218853943049907684326171875\n",
       "2  2018-10-17 00:00:00  11502916.70056558959186077117919921875\n",
       "3  2018-10-18 00:00:00  11448484.29383384063839912414550781250\n",
       "4  2018-10-19 00:00:00  11629773.63004752434790134429931640625"
      ]
     },
     "execution_count": 27,
     "metadata": {},
     "output_type": "execute_result"
    }
   ],
   "source": [
    "df_rev = pd.read_csv('miners-revenue.csv',header=None)\n",
    "print(len(df_rev))\n",
    "df_rev.head()"
   ]
  },
  {
   "cell_type": "code",
   "execution_count": 28,
   "metadata": {
    "scrolled": true
   },
   "outputs": [
    {
     "name": "stdout",
     "output_type": "stream",
     "text": [
      "Min:\n",
      "$         4,750,978.91 USD\n",
      "Max:\n",
      "$        28,500,796.50 USD\n",
      "Median:\n",
      "$        11,207,341.46 USD\n",
      "Mean:\n",
      "$        12,921,474.08 USD\n"
     ]
    }
   ],
   "source": [
    "min_revenue = df_rev[1].min()\n",
    "print('Min:\\n$ {:>20,.2f} USD'.format(min_revenue))\n",
    "max_revenue = df_rev[1].max()\n",
    "print('Max:\\n$ {:>20,.2f} USD'.format(max_revenue))\n",
    "median_revenue = df_rev[1].median()\n",
    "print('Median:\\n$ {:>20,.2f} USD'.format(median_revenue))\n",
    "mean_revenue = df_rev[1].mean()\n",
    "print('Mean:\\n$ {:>20,.2f} USD'.format(mean_revenue))"
   ]
  },
  {
   "cell_type": "markdown",
   "metadata": {},
   "source": [
    "## Transaction feeds per day in USD\n",
    "> The total value of all transaction fees paid to miners (not including the coinbase value of block rewards).\n",
    "\n",
    "https://www.blockchain.com/charts/transaction-fees-usd?timespan=1year"
   ]
  },
  {
   "cell_type": "code",
   "execution_count": 23,
   "metadata": {},
   "outputs": [
    {
     "name": "stdout",
     "output_type": "stream",
     "text": [
      "--2019-10-15 16:13:50--  https://api.blockchain.info/charts/transaction-fees-usd?timespan=1year&format=csv\n",
      "Resolving api.blockchain.info (api.blockchain.info)... 104.16.54.3, 104.16.55.3\n",
      "Connecting to api.blockchain.info (api.blockchain.info)|104.16.54.3|:443... connected.\n",
      "HTTP request sent, awaiting response... 200 OK\n",
      "Length: unspecified [text/csv]\n",
      "Saving to: ‘transaction-fees-usd.csv’\n",
      "\n",
      "transaction-fees-us     [ <=>                ]  13.68K  --.-KB/s    in 0.001s  \n",
      "\n",
      "2019-10-15 16:13:50 (12.6 MB/s) - ‘transaction-fees-usd.csv’ saved [14006]\n",
      "\n"
     ]
    }
   ],
   "source": [
    "!wget -O \"transaction-fees-usd.csv\"  \"https://api.blockchain.info/charts/transaction-fees-usd?timespan=1year&format=csv\""
   ]
  },
  {
   "cell_type": "code",
   "execution_count": 30,
   "metadata": {},
   "outputs": [
    {
     "name": "stdout",
     "output_type": "stream",
     "text": [
      "365\n"
     ]
    },
    {
     "data": {
      "text/html": [
       "<div>\n",
       "<style scoped>\n",
       "    .dataframe tbody tr th:only-of-type {\n",
       "        vertical-align: middle;\n",
       "    }\n",
       "\n",
       "    .dataframe tbody tr th {\n",
       "        vertical-align: top;\n",
       "    }\n",
       "\n",
       "    .dataframe thead th {\n",
       "        text-align: right;\n",
       "    }\n",
       "</style>\n",
       "<table border=\"1\" class=\"dataframe\">\n",
       "  <thead>\n",
       "    <tr style=\"text-align: right;\">\n",
       "      <th></th>\n",
       "      <th>0</th>\n",
       "      <th>1</th>\n",
       "    </tr>\n",
       "  </thead>\n",
       "  <tbody>\n",
       "    <tr>\n",
       "      <td>0</td>\n",
       "      <td>2018-10-15 00:00:00</td>\n",
       "      <td>149028.726265063916798681020736694335937500</td>\n",
       "    </tr>\n",
       "    <tr>\n",
       "      <td>1</td>\n",
       "      <td>2018-10-16 00:00:00</td>\n",
       "      <td>127442.884688540390925481915473937988281250</td>\n",
       "    </tr>\n",
       "    <tr>\n",
       "      <td>2</td>\n",
       "      <td>2018-10-17 00:00:00</td>\n",
       "      <td>124340.335180975103867240250110626220703125</td>\n",
       "    </tr>\n",
       "    <tr>\n",
       "      <td>3</td>\n",
       "      <td>2018-10-18 00:00:00</td>\n",
       "      <td>118613.966910766539513133466243743896484375</td>\n",
       "    </tr>\n",
       "    <tr>\n",
       "      <td>4</td>\n",
       "      <td>2018-10-19 00:00:00</td>\n",
       "      <td>114560.234214190510101616382598876953125000</td>\n",
       "    </tr>\n",
       "  </tbody>\n",
       "</table>\n",
       "</div>"
      ],
      "text/plain": [
       "                     0                                            1\n",
       "0  2018-10-15 00:00:00  149028.726265063916798681020736694335937500\n",
       "1  2018-10-16 00:00:00  127442.884688540390925481915473937988281250\n",
       "2  2018-10-17 00:00:00  124340.335180975103867240250110626220703125\n",
       "3  2018-10-18 00:00:00  118613.966910766539513133466243743896484375\n",
       "4  2018-10-19 00:00:00  114560.234214190510101616382598876953125000"
      ]
     },
     "execution_count": 30,
     "metadata": {},
     "output_type": "execute_result"
    }
   ],
   "source": [
    "df_rev = pd.read_csv('transaction-fees-usd.csv',header=None)\n",
    "print(len(df_rev))\n",
    "df_rev.head()"
   ]
  },
  {
   "cell_type": "code",
   "execution_count": 31,
   "metadata": {},
   "outputs": [
    {
     "name": "stdout",
     "output_type": "stream",
     "text": [
      "Min:\n",
      "฿      42,133.14971120 BTC\n",
      "Max:\n",
      "฿   2,368,023.05355289 BTC\n",
      "Median:\n",
      "฿     227,726.85373094 BTC\n",
      "Mean:\n",
      "฿     403,648.86033257 BTC\n"
     ]
    }
   ],
   "source": [
    "min_fee = df_rev[1].min()\n",
    "print('Min:\\n฿ {:>20,.8f} BTC'.format(min_fee))\n",
    "max_fee = df_rev[1].max()\n",
    "print('Max:\\n฿ {:>20,.8f} BTC'.format(max_fee))\n",
    "median_fee = df_rev[1].median()\n",
    "print('Median:\\n฿ {:>20,.8f} BTC'.format(median_fee))\n",
    "mean_fee = df_rev[1].mean()\n",
    "print('Mean:\\n฿ {:>20,.8f} BTC'.format(mean_fee))"
   ]
  },
  {
   "cell_type": "markdown",
   "metadata": {},
   "source": [
    "## Comparision of rewards (USD) and vlaue tranfered (USD) per day \n"
   ]
  },
  {
   "cell_type": "code",
   "execution_count": 34,
   "metadata": {
    "scrolled": true
   },
   "outputs": [
    {
     "data": {
      "text/plain": [
       "72.86670021635685"
      ]
     },
     "execution_count": 34,
     "metadata": {},
     "output_type": "execute_result"
    }
   ],
   "source": [
    "mean_volume / mean_revenue"
   ]
  },
  {
   "cell_type": "code",
   "execution_count": 35,
   "metadata": {},
   "outputs": [
    {
     "data": {
      "text/plain": [
       "69.8137458396992"
      ]
     },
     "execution_count": 35,
     "metadata": {},
     "output_type": "execute_result"
    }
   ],
   "source": [
    "median_volume / median_revenue"
   ]
  },
  {
   "cell_type": "code",
   "execution_count": 36,
   "metadata": {},
   "outputs": [
    {
     "data": {
      "text/plain": [
       "2332.5847556669914"
      ]
     },
     "execution_count": 36,
     "metadata": {},
     "output_type": "execute_result"
    }
   ],
   "source": [
    "mean_volume / mean_fee"
   ]
  },
  {
   "cell_type": "code",
   "execution_count": 37,
   "metadata": {},
   "outputs": [
    {
     "data": {
      "text/plain": [
       "3435.811259609016"
      ]
     },
     "execution_count": 37,
     "metadata": {},
     "output_type": "execute_result"
    }
   ],
   "source": [
    "median_volume / median_fee"
   ]
  },
  {
   "cell_type": "markdown",
   "metadata": {},
   "source": [
    "## Transaction volume per day in BTC\n",
    "> The total estimated value of transactions on the Bitcoin blockchain (does not include coins returned to sender as change).\n",
    "\n",
    "https://www.blockchain.com/charts/estimated-transaction-volume?timespan=1year"
   ]
  },
  {
   "cell_type": "code",
   "execution_count": 2,
   "metadata": {},
   "outputs": [
    {
     "name": "stdout",
     "output_type": "stream",
     "text": [
      "--2019-10-15 15:33:07--  https://api.blockchain.info/charts/estimated-transaction-volume?timespan=1year&format=csv\n",
      "Resolving api.blockchain.info (api.blockchain.info)... 104.16.55.3, 104.16.54.3\n",
      "Connecting to api.blockchain.info (api.blockchain.info)|104.16.55.3|:443... connected.\n",
      "HTTP request sent, awaiting response... 200 OK\n",
      "Length: unspecified [text/csv]\n",
      "Saving to: ‘estimated-transaction-volume.csv’\n",
      "\n",
      "estimated-transacti     [ <=>                ]  13.57K  --.-KB/s    in 0.001s  \n",
      "\n",
      "2019-10-15 15:33:07 (15.3 MB/s) - ‘estimated-transaction-volume.csv’ saved [13900]\n",
      "\n"
     ]
    }
   ],
   "source": [
    "!wget -O \"estimated-transaction-volume.csv\"  \"https://api.blockchain.info/charts/estimated-transaction-volume?timespan=1year&format=csv\""
   ]
  },
  {
   "cell_type": "code",
   "execution_count": 131,
   "metadata": {},
   "outputs": [
    {
     "name": "stdout",
     "output_type": "stream",
     "text": [
      "365\n"
     ]
    },
    {
     "data": {
      "text/html": [
       "<div>\n",
       "<style scoped>\n",
       "    .dataframe tbody tr th:only-of-type {\n",
       "        vertical-align: middle;\n",
       "    }\n",
       "\n",
       "    .dataframe tbody tr th {\n",
       "        vertical-align: top;\n",
       "    }\n",
       "\n",
       "    .dataframe thead th {\n",
       "        text-align: right;\n",
       "    }\n",
       "</style>\n",
       "<table border=\"1\" class=\"dataframe\">\n",
       "  <thead>\n",
       "    <tr style=\"text-align: right;\">\n",
       "      <th></th>\n",
       "      <th>0</th>\n",
       "      <th>1</th>\n",
       "    </tr>\n",
       "  </thead>\n",
       "  <tbody>\n",
       "    <tr>\n",
       "      <th>0</th>\n",
       "      <td>2017-08-18 00:00:00</td>\n",
       "      <td>275331.80887692997930571436882019042968750</td>\n",
       "    </tr>\n",
       "    <tr>\n",
       "      <th>1</th>\n",
       "      <td>2017-08-19 00:00:00</td>\n",
       "      <td>313472.69392997998511418700218200683593750</td>\n",
       "    </tr>\n",
       "    <tr>\n",
       "      <th>2</th>\n",
       "      <td>2017-08-20 00:00:00</td>\n",
       "      <td>181583.87597230999381281435489654541015625</td>\n",
       "    </tr>\n",
       "    <tr>\n",
       "      <th>3</th>\n",
       "      <td>2017-08-21 00:00:00</td>\n",
       "      <td>202649.23936119000427424907684326171875000</td>\n",
       "    </tr>\n",
       "    <tr>\n",
       "      <th>4</th>\n",
       "      <td>2017-08-22 00:00:00</td>\n",
       "      <td>215933.01456173000042326748371124267578125</td>\n",
       "    </tr>\n",
       "  </tbody>\n",
       "</table>\n",
       "</div>"
      ],
      "text/plain": [
       "                     0                                           1\n",
       "0  2017-08-18 00:00:00  275331.80887692997930571436882019042968750\n",
       "1  2017-08-19 00:00:00  313472.69392997998511418700218200683593750\n",
       "2  2017-08-20 00:00:00  181583.87597230999381281435489654541015625\n",
       "3  2017-08-21 00:00:00  202649.23936119000427424907684326171875000\n",
       "4  2017-08-22 00:00:00  215933.01456173000042326748371124267578125"
      ]
     },
     "execution_count": 131,
     "metadata": {},
     "output_type": "execute_result"
    }
   ],
   "source": [
    "df_vol = pd.read_csv('estimated-transaction-volume.csv',header=None)\n",
    "print(len(df_vol))\n",
    "df_vol.head()"
   ]
  },
  {
   "cell_type": "code",
   "execution_count": 132,
   "metadata": {
    "scrolled": true
   },
   "outputs": [
    {
     "name": "stdout",
     "output_type": "stream",
     "text": [
      "Min:\n",
      "฿      52,417.41808258 BTC\n",
      "Max:\n",
      "฿     407,836.91191003 BTC\n",
      "Median:\n",
      "฿     156,169.96115303 BTC\n",
      "Mean:\n",
      "฿     173,139.73753751 BTC\n"
     ]
    }
   ],
   "source": [
    "min_revenue = df_vol[1].min()\n",
    "print('Min:\\n฿ {:>20,.8f} BTC'.format(min_revenue))\n",
    "max_revenue = df_vol[1].max()\n",
    "print('Max:\\n฿ {:>20,.8f} BTC'.format(max_revenue))\n",
    "median_revenue = df_vol[1].median()\n",
    "print('Median:\\n฿ {:>20,.8f} BTC'.format(median_revenue))\n",
    "mean_revenue = df_vol[1].mean()\n",
    "print('Mean:\\n฿ {:>20,.8f} BTC'.format(mean_revenue))"
   ]
  },
  {
   "cell_type": "markdown",
   "metadata": {},
   "source": [
    "## Transaction fees per day in BTC\n",
    "> The total value of all transaction fees paid to miners (not including the coinbase value of block rewards).\n",
    "\n",
    "https://www.blockchain.com/charts/transaction-fees?timespan=1year"
   ]
  },
  {
   "cell_type": "code",
   "execution_count": 6,
   "metadata": {},
   "outputs": [
    {
     "name": "stdout",
     "output_type": "stream",
     "text": [
      "--2019-10-15 15:41:24--  https://api.blockchain.info/charts/transaction-fees?timespan=1year&format=csv\n",
      "Resolving api.blockchain.info (api.blockchain.info)... 104.16.54.3, 104.16.55.3\n",
      "Connecting to api.blockchain.info (api.blockchain.info)|104.16.54.3|:443... connected.\n",
      "HTTP request sent, awaiting response... 200 OK\n",
      "Length: unspecified [text/csv]\n",
      "Saving to: ‘transaction-fees.csv’\n",
      "\n",
      "transaction-fees.cs     [ <=>                ]  13.28K  --.-KB/s    in 0.001s  \n",
      "\n",
      "2019-10-15 15:41:24 (14.0 MB/s) - ‘transaction-fees.csv’ saved [13597]\n",
      "\n"
     ]
    }
   ],
   "source": [
    "!wget -O \"transaction-fees.csv\" \"https://api.blockchain.info/charts/transaction-fees?timespan=1year&format=csv\""
   ]
  },
  {
   "cell_type": "code",
   "execution_count": 92,
   "metadata": {},
   "outputs": [
    {
     "name": "stdout",
     "output_type": "stream",
     "text": [
      "365\n"
     ]
    },
    {
     "data": {
      "text/html": [
       "<div>\n",
       "<style scoped>\n",
       "    .dataframe tbody tr th:only-of-type {\n",
       "        vertical-align: middle;\n",
       "    }\n",
       "\n",
       "    .dataframe tbody tr th {\n",
       "        vertical-align: top;\n",
       "    }\n",
       "\n",
       "    .dataframe thead th {\n",
       "        text-align: right;\n",
       "    }\n",
       "</style>\n",
       "<table border=\"1\" class=\"dataframe\">\n",
       "  <thead>\n",
       "    <tr style=\"text-align: right;\">\n",
       "      <th></th>\n",
       "      <th>0</th>\n",
       "      <th>1</th>\n",
       "    </tr>\n",
       "  </thead>\n",
       "  <tbody>\n",
       "    <tr>\n",
       "      <td>0</td>\n",
       "      <td>2018-10-15 00:00:00</td>\n",
       "      <td>23.0960203100000036613437259802594780921936035...</td>\n",
       "    </tr>\n",
       "    <tr>\n",
       "      <td>1</td>\n",
       "      <td>2018-10-16 00:00:00</td>\n",
       "      <td>19.3194267500000016468675312353298068046569824...</td>\n",
       "    </tr>\n",
       "    <tr>\n",
       "      <td>2</td>\n",
       "      <td>2018-10-17 00:00:00</td>\n",
       "      <td>18.8500802999999876874426263384521007537841796...</td>\n",
       "    </tr>\n",
       "    <tr>\n",
       "      <td>3</td>\n",
       "      <td>2018-10-18 00:00:00</td>\n",
       "      <td>18.0592616700000014873239706503227353096008300...</td>\n",
       "    </tr>\n",
       "    <tr>\n",
       "      <td>4</td>\n",
       "      <td>2018-10-19 00:00:00</td>\n",
       "      <td>17.6587622599999995998132362728938460350036621...</td>\n",
       "    </tr>\n",
       "  </tbody>\n",
       "</table>\n",
       "</div>"
      ],
      "text/plain": [
       "                     0                                                  1\n",
       "0  2018-10-15 00:00:00  23.0960203100000036613437259802594780921936035...\n",
       "1  2018-10-16 00:00:00  19.3194267500000016468675312353298068046569824...\n",
       "2  2018-10-17 00:00:00  18.8500802999999876874426263384521007537841796...\n",
       "3  2018-10-18 00:00:00  18.0592616700000014873239706503227353096008300...\n",
       "4  2018-10-19 00:00:00  17.6587622599999995998132362728938460350036621..."
      ]
     },
     "execution_count": 92,
     "metadata": {},
     "output_type": "execute_result"
    }
   ],
   "source": [
    "df_rev = pd.read_csv('transaction-fees.csv',header=None)\n",
    "print(len(df_rev))\n",
    "df_rev.head()"
   ]
  },
  {
   "cell_type": "code",
   "execution_count": 95,
   "metadata": {},
   "outputs": [
    {
     "name": "stdout",
     "output_type": "stream",
     "text": [
      "Min:\n",
      "฿          11.22870449 BTC\n",
      "Max:\n",
      "฿         228.51579452 BTC\n",
      "Median:\n",
      "฿          34.64137449 BTC\n",
      "Mean:\n",
      "฿          53.60362910 BTC\n",
      "Std. deviation:\n",
      "฿          46.12188263 BTC\n"
     ]
    }
   ],
   "source": [
    "min_revenue = df_rev[1].min()\n",
    "print('Min:\\n฿ {:>20,.8f} BTC'.format(min_revenue))\n",
    "max_revenue = df_rev[1].max()\n",
    "print('Max:\\n฿ {:>20,.8f} BTC'.format(max_revenue))\n",
    "median_revenue = df_rev[1].median()\n",
    "print('Median:\\n฿ {:>20,.8f} BTC'.format(median_revenue))\n",
    "mean_revenue = df_rev[1].mean()\n",
    "print('Mean:\\n฿ {:>20,.8f} BTC'.format(mean_revenue))\n",
    "std_revenue = df_rev[1].std()\n",
    "print('Std. deviation:\\n฿ {:>20,.8f} BTC'.format(std_revenue))"
   ]
  },
  {
   "cell_type": "code",
   "execution_count": 96,
   "metadata": {},
   "outputs": [
    {
     "data": {
      "text/plain": [
       "600"
      ]
     },
     "execution_count": 96,
     "metadata": {},
     "output_type": "execute_result"
    }
   ],
   "source": [
    "mean_block_interval = 60*10\n",
    "mean_block_interval"
   ]
  },
  {
   "cell_type": "code",
   "execution_count": 97,
   "metadata": {},
   "outputs": [
    {
     "data": {
      "text/plain": [
       "86400"
      ]
     },
     "execution_count": 97,
     "metadata": {},
     "output_type": "execute_result"
    }
   ],
   "source": [
    "seconds_per_day = 60*60*24\n",
    "seconds_per_day"
   ]
  },
  {
   "cell_type": "code",
   "execution_count": 98,
   "metadata": {},
   "outputs": [
    {
     "data": {
      "text/plain": [
       "53.60362909619178"
      ]
     },
     "execution_count": 98,
     "metadata": {},
     "output_type": "execute_result"
    }
   ],
   "source": [
    "mean_revenue"
   ]
  },
  {
   "cell_type": "markdown",
   "metadata": {},
   "source": [
    "What is the mean number of Bitcoin blocks that are found in one day?"
   ]
  },
  {
   "cell_type": "code",
   "execution_count": 116,
   "metadata": {},
   "outputs": [
    {
     "data": {
      "text/plain": [
       "144.0"
      ]
     },
     "execution_count": 116,
     "metadata": {},
     "output_type": "execute_result"
    }
   ],
   "source": [
    "mean_blocks_per_day = seconds_per_day / mean_block_interval\n",
    "mean_blocks_per_day"
   ]
  },
  {
   "cell_type": "code",
   "execution_count": 100,
   "metadata": {},
   "outputs": [
    {
     "name": "stdout",
     "output_type": "stream",
     "text": [
      "Mean fee per block (derived by mean fee per day over the last year):\n",
      "฿           0.37224742 BTC\n"
     ]
    }
   ],
   "source": [
    "mean_fee_per_block = mean_revenue / mean_blocks_per_day \n",
    "print('Mean fee per block (derived by mean fee per day over the last year):\\n฿ {:>20,.8f} BTC'.format(mean_fee_per_block))"
   ]
  },
  {
   "cell_type": "markdown",
   "metadata": {},
   "source": [
    "Since the Bitcoin block arrival follows a Poisson distribution we have it that $ \\lambda = Var[x] = E[x] $ the std. deviation is $ \\sqrt{Var[x]} $ whis is "
   ]
  },
  {
   "cell_type": "code",
   "execution_count": 101,
   "metadata": {},
   "outputs": [
    {
     "data": {
      "text/plain": [
       "12.0"
      ]
     },
     "execution_count": 101,
     "metadata": {},
     "output_type": "execute_result"
    }
   ],
   "source": [
    "math.sqrt((60*24)/10)"
   ]
  },
  {
   "cell_type": "code",
   "execution_count": 102,
   "metadata": {},
   "outputs": [
    {
     "name": "stdout",
     "output_type": "stream",
     "text": [
      "1 \t 4.168282048773564e-61\n",
      "2 \t 3.0011630751169687e-59\n",
      "3 \t 1.4405582760561522e-57\n",
      "4 \t 5.186009793802143e-56\n",
      "5 \t 1.4935708206149958e-54\n",
      "6 \t 3.584569969476002e-53\n",
      "7 \t 7.373972508636301e-52\n",
      "8 \t 1.3273150515545492e-50\n",
      "9 \t 2.1237040824872642e-49\n",
      "10 \t 3.058133878781698e-48\n",
      "11 \t 4.0033752594960164e-47\n",
      "12 \t 4.804050311395227e-46\n",
      "13 \t 5.3214095756993825e-45\n",
      "14 \t 5.473449849290671e-44\n",
      "15 \t 5.254511855319056e-43\n",
      "16 \t 4.7290606697871955e-42\n",
      "17 \t 4.005792567349154e-41\n",
      "18 \t 3.204634053879341e-40\n",
      "19 \t 2.4287752829401178e-39\n",
      "20 \t 1.7487182037168782e-38\n",
      "21 \t 1.1991210539773003e-37\n",
      "22 \t 7.848792353305902e-37\n",
      "23 \t 4.914026516852439e-36\n",
      "24 \t 2.948415910111462e-35\n",
      "25 \t 1.6982875642241973e-34\n",
      "26 \t 9.405900355703326e-34\n",
      "27 \t 5.016480189708347e-33\n",
      "28 \t 2.579904097564267e-32\n",
      "29 \t 1.2810558277560708e-31\n",
      "30 \t 6.149067973229143e-31\n",
      "31 \t 2.856341252080634e-30\n",
      "32 \t 1.2853535634362952e-29\n",
      "33 \t 5.608815549540096e-29\n",
      "34 \t 2.3754983503935157e-28\n",
      "35 \t 9.77347892733337e-28\n",
      "36 \t 3.909391570933307e-27\n",
      "37 \t 1.5214929357146302e-26\n",
      "38 \t 5.765657440602518e-26\n",
      "39 \t 2.128858131914803e-25\n",
      "40 \t 7.663889274893247e-25\n",
      "41 \t 2.6917074526454567e-24\n",
      "42 \t 9.228711266213073e-24\n",
      "43 \t 3.090545168220136e-23\n",
      "44 \t 1.0114511459629722e-22\n",
      "45 \t 3.236643667081388e-22\n",
      "46 \t 1.013210191434225e-21\n",
      "47 \t 3.104303565245192e-21\n",
      "48 \t 9.312910695735818e-21\n",
      "49 \t 2.7368553881345663e-20\n",
      "50 \t 7.882143517827513e-20\n",
      "51 \t 2.2255464050335927e-19\n",
      "52 \t 6.163051583170165e-19\n",
      "53 \t 1.6744894867481091e-18\n",
      "54 \t 4.4653052979947395e-18\n",
      "55 \t 1.1690981143840665e-17\n",
      "56 \t 3.0062522941305064e-17\n",
      "57 \t 7.594742637803574e-17\n",
      "58 \t 1.8855912755925853e-16\n",
      "59 \t 4.602121079412526e-16\n",
      "60 \t 1.1045090590589574e-15\n",
      "61 \t 2.607365647614625e-15\n",
      "62 \t 6.055816988008408e-15\n",
      "63 \t 1.3841867401162054e-14\n",
      "64 \t 3.114420165261436e-14\n",
      "65 \t 6.899638519963946e-14\n",
      "66 \t 1.505375677083013e-13\n",
      "67 \t 3.2354342910440427e-13\n",
      "68 \t 6.851507910446183e-13\n",
      "69 \t 1.4298799117452875e-12\n",
      "70 \t 2.941467247019054e-12\n",
      "71 \t 5.965792726348398e-12\n",
      "72 \t 1.1931585452696478e-11\n",
      "73 \t 2.353627815326448e-11\n",
      "74 \t 4.580032505500374e-11\n",
      "75 \t 8.793662410559965e-11\n",
      "76 \t 1.666167614632398e-10\n",
      "77 \t 3.115949824767079e-10\n",
      "78 \t 5.752522753416371e-10\n",
      "79 \t 1.0485611094835408e-09\n",
      "80 \t 1.8874099970701716e-09\n",
      "81 \t 3.3553955503470126e-09\n",
      "82 \t 5.892401942072676e-09\n",
      "83 \t 1.0222962405524304e-08\n",
      "84 \t 1.7525078409470598e-08\n",
      "85 \t 2.968954459957406e-08\n",
      "86 \t 4.971272584114768e-08\n",
      "87 \t 8.228313242672407e-08\n",
      "88 \t 1.3464512578918896e-07\n",
      "89 \t 2.1785278779375506e-07\n",
      "90 \t 3.485644604699942e-07\n",
      "91 \t 5.515745308535865e-07\n",
      "92 \t 8.633340482925633e-07\n",
      "93 \t 1.3367753005820936e-06\n",
      "94 \t 2.047825992381131e-06\n",
      "95 \t 3.1040730831883458e-06\n",
      "96 \t 4.6561096247822345e-06\n",
      "97 \t 6.9121627419443375e-06\n",
      "98 \t 1.015664729428596e-05\n",
      "99 \t 1.4773305155324799e-05\n",
      "100 \t 2.1273559423668177e-05\n",
      "101 \t 3.033061937632038e-05\n",
      "102 \t 4.2819697943038126e-05\n",
      "103 \t 5.9864432075706283e-05\n",
      "104 \t 8.288921364329308e-05\n",
      "105 \t 0.0001136766358536567\n",
      "106 \t 0.00015442863738610274\n",
      "107 \t 0.00020782919423921128\n",
      "108 \t 0.00027710559231895006\n",
      "109 \t 0.0003660844522378612\n",
      "110 \t 0.00047923782838413123\n",
      "111 \t 0.0006217139395253795\n",
      "112 \t 0.0007993464936754088\n",
      "113 \t 0.0010186362397279825\n",
      "114 \t 0.001286698408077481\n",
      "115 \t 0.0016111701805492967\n",
      "116 \t 0.0020000733275783488\n",
      "117 \t 0.002461628710865627\n",
      "118 \t 0.0030040214776665113\n",
      "119 \t 0.003635118426756185\n",
      "120 \t 0.004362142112107221\n",
      "121 \t 0.005191309621020528\n",
      "122 \t 0.006127447421532851\n",
      "123 \t 0.007173596981305813\n",
      "124 \t 0.008330628752484021\n",
      "125 \t 0.009596884322862492\n",
      "126 \t 0.010967867797557408\n",
      "127 \t 0.01243600758148318\n",
      "128 \t 0.013990508529167637\n",
      "129 \t 0.01561731184651291\n",
      "130 \t 0.01729917619921415\n",
      "131 \t 0.019015888341121535\n",
      "132 \t 0.020744605463037684\n",
      "133 \t 0.02246032471186129\n",
      "134 \t 0.02413646834707444\n",
      "135 \t 0.02574556623687995\n",
      "136 \t 0.02726001130964054\n",
      "137 \t 0.028652858602831406\n",
      "138 \t 0.02989863506382736\n",
      "139 \t 0.030974125533749796\n",
      "140 \t 0.03185910054899531\n",
      "141 \t 0.03253695375216637\n",
      "142 \t 0.03299522070642628\n",
      "143 \t 0.033225956515560755\n",
      "144 \t 0.033225956515560755\n",
      "145 \t 0.032996811987866276\n",
      "146 \t 0.032544800864745954\n",
      "147 \t 0.03188062125526093\n",
      "148 \t 0.03101898284295563\n",
      "149 \t 0.029978077378428194\n",
      "150 \t 0.028778954283285273\n",
      "151 \t 0.027444830574787586\n",
      "152 \t 0.02600036580769542\n",
      "153 \t 0.02447093252488853\n",
      "154 \t 0.022881910932363234\n",
      "155 \t 0.021258033382326912\n",
      "156 \t 0.01962280004522669\n",
      "157 \t 0.017997982207084335\n",
      "158 \t 0.01640322429000167\n",
      "159 \t 0.01485575030037923\n",
      "160 \t 0.01337017527034137\n",
      "161 \t 0.011958417633100536\n",
      "162 \t 0.010629704562755537\n",
      "163 \t 0.009390659245624508\n",
      "164 \t 0.008245456898597405\n",
      "165 \t 0.007196035111502733\n",
      "166 \t 0.006242343711182753\n",
      "167 \t 0.00538261972700835\n",
      "168 \t 0.004613674051721531\n",
      "169 \t 0.003931177890224109\n",
      "170 \t 0.0033299389187779116\n",
      "171 \t 0.002804159089497584\n",
      "172 \t 0.002347668074927958\n",
      "173 \t 0.0019541283398244445\n",
      "174 \t 0.0016172096605443953\n",
      "175 \t 0.001330732520676742\n",
      "176 \t 0.0010887811532810023\n",
      "177 \t 0.0008857880569065266\n",
      "178 \t 0.0007165925853625369\n",
      "179 \t 0.000576476716716212\n",
      "180 \t 0.00046118137337295036\n",
      "181 \t 0.00036690672798737623\n",
      "182 \t 0.00029029982873719854\n",
      "183 \t 0.00022843265212109102\n",
      "184 \t 0.00017877337992088256\n",
      "185 \t 0.00013915333356001244\n",
      "186 \t 0.00010773161307872395\n",
      "187 \t 8.295910311945269e-05\n",
      "188 \t 6.354314281489779e-05\n",
      "189 \t 4.8413823097063643e-05\n",
      "190 \t 3.6692581715670466e-05\n",
      "191 \t 2.76635171050096e-05\n",
      "192 \t 2.0747637828758254e-05\n",
      "193 \t 1.5480102835960817e-05\n",
      "194 \t 1.1490385610196996e-05\n",
      "195 \t 8.485207835223806e-06\n",
      "196 \t 6.234030246286405e-06\n",
      "197 \t 4.556854596270541e-06\n",
      "198 \t 3.3140760700152576e-06\n",
      "199 \t 2.3981253973977223e-06\n",
      "\n",
      "0.9999940809958539\n"
     ]
    }
   ],
   "source": [
    "s=0\n",
    "for i in range(1,200):\n",
    "    # print the probability of finding exactly i blocks \n",
    "    # during a period of 1440 minutes (= 1 day) at 10 minute intervals \n",
    "    p = scipy.stats.poisson.pmf(i,(60*24)/10) \n",
    "    s += p\n",
    "    print(i,\"\\t\",p)\n",
    "print()\n",
    "print(s) # sums up to one"
   ]
  },
  {
   "cell_type": "code",
   "execution_count": 103,
   "metadata": {},
   "outputs": [
    {
     "data": {
      "image/png": "[encoded data removed]",
      "text/plain": [
       "<Figure size 1152x648 with 1 Axes>"
      ]
     },
     "metadata": {
      "needs_background": "light"
     },
     "output_type": "display_data"
    }
   ],
   "source": [
    "# check if values look ok\n",
    "def fig_dist(x_max=300):\n",
    "    x = np.arange(0, x_max)\n",
    "    fig, ax = plt.subplots(figsize=(16, 9))\n",
    "\n",
    "    plt.plot(x, [scipy.stats.poisson.pmf(i,(60*24)/10) for i in range(0,x_max)] )\n",
    "    ax.axvline(144-12) # - std deviation\n",
    "    ax.axvline(144+12) # + std deviation\n",
    "    \n",
    "    # tidy up the figure\n",
    "    ax.grid(True)\n",
    "    ax.set_title(\"Distribution\") \n",
    "    ax.set_xlabel(\"x\")\n",
    "    ax.set_ylabel(\"P(x)\")\n",
    "    ax.set_xlim(80,200)\n",
    "    ax.set_ylim(0,0.04)\n",
    "\n",
    "    plt.show()\n",
    "\n",
    "fig_dist()"
   ]
  },
  {
   "cell_type": "code",
   "execution_count": 108,
   "metadata": {},
   "outputs": [
    {
     "name": "stdout",
     "output_type": "stream",
     "text": [
      "Change in fee accounting for std. deviation of blocks:\n",
      "฿           0.75549630 BTC\n"
     ]
    }
   ],
   "source": [
    "mean_fee_per_block = (mean_revenue+std_revenue) / (mean_blocks_per_day-12 )\n",
    "print('Change in fee accounting for std. deviation of blocks:\\n฿ {:>20,.8f} BTC'.format(mean_fee_per_block))"
   ]
  },
  {
   "cell_type": "code",
   "execution_count": 109,
   "metadata": {},
   "outputs": [
    {
     "name": "stdout",
     "output_type": "stream",
     "text": [
      "Mean fee per block (derived by mean fee per day over the last year):\n",
      "฿           0.69253828 BTC\n"
     ]
    }
   ],
   "source": [
    "mean_fee_per_block = (mean_revenue+std_revenue) / mean_blocks_per_day \n",
    "print('Mean fee per block (derived by mean fee per day over the last year):\\n฿ {:>20,.8f} BTC'.format(mean_fee_per_block))"
   ]
  },
  {
   "cell_type": "code",
   "execution_count": 110,
   "metadata": {},
   "outputs": [
    {
     "name": "stdout",
     "output_type": "stream",
     "text": [
      "Change in fee accounting for std. deviation of blocks:\n",
      "฿           0.63926610 BTC\n"
     ]
    }
   ],
   "source": [
    "mean_fee_per_block = (mean_revenue+std_revenue) / (mean_blocks_per_day+12)\n",
    "print('Change in fee accounting for std. deviation of blocks:\\n฿ {:>20,.8f} BTC'.format(mean_fee_per_block))"
   ]
  },
  {
   "cell_type": "code",
   "execution_count": 114,
   "metadata": {},
   "outputs": [
    {
     "name": "stdout",
     "output_type": "stream",
     "text": [
      "Max fee per block (derived by max fee per day over the last year):\n",
      "฿           1.58691524 BTC\n"
     ]
    }
   ],
   "source": [
    "max_fee_per_block = max_revenue / mean_blocks_per_day\n",
    "print('Max fee per block (derived by max fee per day over the last year):\\n฿ {:>20,.8f} BTC'.format(max_fee_per_block))"
   ]
  },
  {
   "cell_type": "markdown",
   "metadata": {
    "collapsed": true
   },
   "source": [
    "## Estimated rewards per day in BTC"
   ]
  },
  {
   "cell_type": "code",
   "execution_count": 122,
   "metadata": {},
   "outputs": [
    {
     "name": "stdout",
     "output_type": "stream",
     "text": [
      "current block reward:\n",
      "฿          12.50000000 BTC\n"
     ]
    }
   ],
   "source": [
    "current_block_reward_BTC = 12.5*10**8\n",
    "print('current block reward:\\n฿ {:>20,.8f} BTC'.format(current_block_reward_BTC*10**(-8)))"
   ]
  },
  {
   "cell_type": "code",
   "execution_count": 123,
   "metadata": {},
   "outputs": [
    {
     "name": "stdout",
     "output_type": "stream",
     "text": [
      "mean - std. dev. current block reward per day:\n",
      "฿       1,650.00000000 BTC\n"
     ]
    }
   ],
   "source": [
    "mean_block_reward_per_day = (mean_blocks_per_day-12) * current_block_reward_BTC\n",
    "print('mean - std. dev. current block reward per day:\\n฿ {:>20,.8f} BTC'.format(mean_block_reward_per_day*10**(-8)))"
   ]
  },
  {
   "cell_type": "code",
   "execution_count": 124,
   "metadata": {
    "scrolled": true
   },
   "outputs": [
    {
     "name": "stdout",
     "output_type": "stream",
     "text": [
      "mean current block reward per day:\n",
      "฿       1,800.00000000 BTC\n"
     ]
    }
   ],
   "source": [
    "mean_block_reward_per_day = mean_blocks_per_day * current_block_reward_BTC\n",
    "print('mean current block reward per day:\\n฿ {:>20,.8f} BTC'.format(mean_block_reward_per_day*10**(-8)))"
   ]
  },
  {
   "cell_type": "code",
   "execution_count": 125,
   "metadata": {},
   "outputs": [
    {
     "name": "stdout",
     "output_type": "stream",
     "text": [
      "mean + std. dev. current block reward per day:\n",
      "฿       1,950.00000000 BTC\n"
     ]
    }
   ],
   "source": [
    "mean_block_reward_per_day = (mean_blocks_per_day+12) * current_block_reward_BTC\n",
    "print('mean + std. dev. current block reward per day:\\n฿ {:>20,.8f} BTC'.format(mean_block_reward_per_day*10**(-8)))"
   ]
  },
  {
   "cell_type": "code",
   "execution_count": null,
   "metadata": {},
   "outputs": [],
   "source": []
  }
 ],
 "metadata": {
  "kernelspec": {
   "display_name": "Python 3",
   "language": "python",
   "name": "python3"
  },
  "language_info": {
   "codemirror_mode": {
    "name": "ipython",
    "version": 3
   },
   "file_extension": ".py",
   "mimetype": "text/x-python",
   "name": "python",
   "nbconvert_exporter": "python",
   "pygments_lexer": "ipython3",
   "version": "3.7.1"
  }
 },
 "nbformat": 4,
 "nbformat_minor": 2
}
